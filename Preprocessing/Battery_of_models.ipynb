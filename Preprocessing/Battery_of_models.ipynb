{
 "cells": [
  {
   "cell_type": "code",
   "execution_count": 2,
   "metadata": {},
   "outputs": [],
   "source": [
    "import pandas as pd\n",
    "import os\n",
    "from tqdm import tqdm_notebook, tnrange\n",
    "import numpy as np\n",
    "import networkx as nx\n",
    "import seaborn as sns\n",
    "import matplotlib.pyplot as plt\n",
    "\n",
    "import scipy\n",
    "from scipy.optimize import minimize\n",
    "from scipy.sparse import csr_matrix, vstack, hstack\n",
    "\n",
    "from sklearn import linear_model\n",
    "from sklearn.metrics import mean_squared_error, r2_score\n",
    "from sklearn.preprocessing import StandardScaler\n",
    "\n",
    "import cvxpy as cp\n",
    "\n",
    "\n",
    "module_path = os.path.abspath(os.path.join('..'))\n",
    "\n",
    "%matplotlib inline"
   ]
  },
  {
   "cell_type": "code",
   "execution_count": 3,
   "metadata": {},
   "outputs": [],
   "source": [
    "protein_df_PD1_test = pd.read_csv(module_path+'/data/harel/protein_df_PD1_test_feats.csv', index_col=0)"
   ]
  },
  {
   "cell_type": "code",
   "execution_count": 4,
   "metadata": {},
   "outputs": [
    {
     "data": {
      "text/plain": [
       "15"
      ]
     },
     "execution_count": 4,
     "metadata": {},
     "output_type": "execute_result"
    }
   ],
   "source": [
    "len(protein_df_PD1_test.T.columns)"
   ]
  },
  {
   "cell_type": "code",
   "execution_count": 5,
   "metadata": {},
   "outputs": [],
   "source": [
    "proteins_df = pd.read_csv(module_path+'/data/harel/protein_df_PD1.csv', index_col=0)\n",
    "protein_list = list(set(list(proteins_df[\"Gene_Names\"])))\n",
    "interactome_protein_set = set(np.loadtxt(module_path+\n",
    "                            '/data/interactome/proteins_in_interactome.txt',\n",
    "                            dtype=str))"
   ]
  },
  {
   "cell_type": "code",
   "execution_count": 6,
   "metadata": {},
   "outputs": [
    {
     "data": {
      "application/vnd.jupyter.widget-view+json": {
       "model_id": "673815459ea74f15ad345e32ede66a5c",
       "version_major": 2,
       "version_minor": 0
      },
      "text/plain": [
       "HBox(children=(IntProgress(value=0, max=4249), HTML(value='')))"
      ]
     },
     "metadata": {},
     "output_type": "display_data"
    },
    {
     "name": "stdout",
     "output_type": "stream",
     "text": [
      "\n"
     ]
    }
   ],
   "source": [
    "intersection_proteins_to_keep = set()\n",
    "semicolon_matches = ()\n",
    "num_nan = 0\n",
    "for protein in tqdm_notebook(protein_list):\n",
    "    if protein in interactome_protein_set:\n",
    "        intersection_proteins_to_keep.add(protein)\n",
    "    elif len(protein.split(\";\")) > 1:\n",
    "        \n",
    "        if np.sum([x in interactome_protein_set for x in protein.split(\";\")]) > 1:\n",
    "            print(protein.split(\";\"))"
   ]
  },
  {
   "cell_type": "code",
   "execution_count": 7,
   "metadata": {},
   "outputs": [],
   "source": [
    "g = nx.read_edgelist(module_path+\"/data/interactome/inbiomap_reduced.txt\", \n",
    "                     data=(('confidence',float),))"
   ]
  },
  {
   "cell_type": "code",
   "execution_count": 8,
   "metadata": {},
   "outputs": [],
   "source": [
    "intersection_proteins = set(g.nodes())\n",
    "proteins_not_found = set(protein_list) - intersection_proteins\n",
    "num_intersection_proteins = len(intersection_proteins)\n",
    "num_orphan_proteins = len(proteins_not_found)"
   ]
  },
  {
   "cell_type": "code",
   "execution_count": 9,
   "metadata": {},
   "outputs": [],
   "source": [
    "proteins_df[\"In_Interactome\"] = list(proteins_df[\"Gene_Names\"].isin(list(intersection_proteins)))\n",
    "protein_new = proteins_df.sort_values(by=\"In_Interactome\", ascending=False).reset_index(drop=True)"
   ]
  },
  {
   "cell_type": "code",
   "execution_count": 10,
   "metadata": {},
   "outputs": [],
   "source": [
    "protein_number_to_names = list(protein_new[\"Gene_Names\"])\n",
    "protein_names_to_number = {}\n",
    "\n",
    "for ind, protein in enumerate(protein_number_to_names):\n",
    "    protein_names_to_number[protein] = ind"
   ]
  },
  {
   "cell_type": "code",
   "execution_count": 11,
   "metadata": {},
   "outputs": [],
   "source": [
    "train_cols = [x for x in protein_new.columns if x not in protein_df_PD1_test.T.columns]"
   ]
  },
  {
   "cell_type": "code",
   "execution_count": 12,
   "metadata": {},
   "outputs": [],
   "source": [
    "protein_test = protein_new[list(protein_df_PD1_test.T.columns) + [\"Gene_Names\", \"In_Interactome\"]]\n",
    "protein_train = protein_new[train_cols]\n",
    "\n",
    "A = protein_train.to_numpy()[:,:-2].T\n",
    "Atest = protein_test.to_numpy()[:,:-2].T\n",
    "Afull = protein_new.to_numpy()[:,:-2].T"
   ]
  },
  {
   "cell_type": "code",
   "execution_count": 13,
   "metadata": {},
   "outputs": [
    {
     "data": {
      "text/plain": [
       "((59, 4249), (15, 4249), (74, 4249))"
      ]
     },
     "execution_count": 13,
     "metadata": {},
     "output_type": "execute_result"
    }
   ],
   "source": [
    "A.shape, Atest.shape, Afull.shape"
   ]
  },
  {
   "cell_type": "code",
   "execution_count": 14,
   "metadata": {},
   "outputs": [],
   "source": [
    "response_df = pd.read_csv(module_path+'/data/harel/response_df.csv', index_col=0)"
   ]
  },
  {
   "cell_type": "code",
   "execution_count": 15,
   "metadata": {},
   "outputs": [
    {
     "data": {
      "application/vnd.jupyter.widget-view+json": {
       "model_id": "6e036e84146e46bb854120a8ebb236d3",
       "version_major": 2,
       "version_minor": 0
      },
      "text/plain": [
       "HBox(children=(IntProgress(value=0, max=59), HTML(value='')))"
      ]
     },
     "metadata": {},
     "output_type": "display_data"
    },
    {
     "name": "stdout",
     "output_type": "stream",
     "text": [
      "\n"
     ]
    }
   ],
   "source": [
    "patient_order_train = protein_train.columns[:-2]\n",
    "y_raw_train = []\n",
    "\n",
    "for patient in tqdm_notebook(patient_order_train):\n",
    "    try:\n",
    "        pfs = float(response_df[response_df[\"Sample ID\"]==patient][\"PFS time (months)\"])\n",
    "    except:\n",
    "        new_patient = \" \".join(patient.split(\"_\"))\n",
    "        try:\n",
    "            pfs = float(response_df[response_df[\"Sample ID\"]==new_patient][\"PFS time (months)\"])\n",
    "        except:\n",
    "            print(patient, new_patient)\n",
    "            raise\n",
    "        \n",
    "    y_raw_train.append(pfs)\n",
    "yraw_train = np.array(y_raw_train).reshape(-1,1)\n",
    "scaler = StandardScaler()\n",
    "scaler.fit(yraw_train)\n",
    "y = scaler.transform(yraw_train.reshape(-1, 1)).reshape(-1)"
   ]
  },
  {
   "cell_type": "code",
   "execution_count": 16,
   "metadata": {},
   "outputs": [
    {
     "data": {
      "application/vnd.jupyter.widget-view+json": {
       "model_id": "9d0ff0958cf14a42938b48a41129978a",
       "version_major": 2,
       "version_minor": 0
      },
      "text/plain": [
       "HBox(children=(IntProgress(value=0, max=15), HTML(value='')))"
      ]
     },
     "metadata": {},
     "output_type": "display_data"
    },
    {
     "name": "stdout",
     "output_type": "stream",
     "text": [
      "\n"
     ]
    }
   ],
   "source": [
    "patient_order_test = protein_test.columns[:-2]\n",
    "y_raw_test = []\n",
    "\n",
    "for patient in tqdm_notebook(patient_order_test):\n",
    "    try:\n",
    "        pfs = float(response_df[response_df[\"Sample ID\"]==patient][\"PFS time (months)\"])\n",
    "    except:\n",
    "        new_patient = \" \".join(patient.split(\"_\"))\n",
    "        try:\n",
    "            pfs = float(response_df[response_df[\"Sample ID\"]==new_patient][\"PFS time (months)\"])\n",
    "        except:\n",
    "            print(patient, new_patient)\n",
    "            raise\n",
    "        \n",
    "    y_raw_test.append(pfs)\n",
    "yraw_test = np.array(y_raw_test).reshape(-1,1)\n",
    "scaler = StandardScaler()\n",
    "scaler.fit(yraw_test)\n",
    "y_test = scaler.transform(yraw_test.reshape(-1, 1)).reshape(-1)"
   ]
  },
  {
   "cell_type": "code",
   "execution_count": 17,
   "metadata": {},
   "outputs": [
    {
     "data": {
      "application/vnd.jupyter.widget-view+json": {
       "model_id": "72e8d217422c43989d1429284cf29b14",
       "version_major": 2,
       "version_minor": 0
      },
      "text/plain": [
       "HBox(children=(IntProgress(value=0, max=74), HTML(value='')))"
      ]
     },
     "metadata": {},
     "output_type": "display_data"
    },
    {
     "name": "stdout",
     "output_type": "stream",
     "text": [
      "\n"
     ]
    }
   ],
   "source": [
    "patient_order = protein_new.columns[:-2]\n",
    "y_raw_full = []\n",
    "\n",
    "for patient in tqdm_notebook(patient_order):\n",
    "    try:\n",
    "        pfs = float(response_df[response_df[\"Sample ID\"]==patient][\"PFS time (months)\"])\n",
    "    except:\n",
    "        new_patient = \" \".join(patient.split(\"_\"))\n",
    "        try:\n",
    "            pfs = float(response_df[response_df[\"Sample ID\"]==new_patient][\"PFS time (months)\"])\n",
    "        except:\n",
    "            print(patient, new_patient)\n",
    "            raise\n",
    "        \n",
    "    y_raw_full.append(pfs)\n",
    "yraw_full = np.array(y_raw_full).reshape(-1,1)\n",
    "scaler = StandardScaler()\n",
    "scaler.fit(yraw_full)\n",
    "y_full = scaler.transform(yraw_full.reshape(-1, 1)).reshape(-1)"
   ]
  },
  {
   "cell_type": "code",
   "execution_count": 18,
   "metadata": {},
   "outputs": [
    {
     "name": "stdout",
     "output_type": "stream",
     "text": [
      "(3995, 3995) (3995, 165392)\n"
     ]
    }
   ],
   "source": [
    "nodlist = protein_train[\"Gene_Names\"][:num_intersection_proteins]\n",
    "\n",
    "L = nx.normalized_laplacian_matrix(g,nodelist=nodlist, weight=\"confidence\")\n",
    "U = nx.incidence_matrix(g,nodelist=nodlist, oriented=True, weight=\"confidence\")\n",
    "\n",
    "print(L.shape, U.shape)\n",
    "\n",
    "Reg0 = np.eye(num_orphan_proteins+num_intersection_proteins)\n",
    "Reg1 = csr_matrix(scipy.linalg.block_diag(\n",
    "    L.todense(),np.eye(num_orphan_proteins)))\n",
    "temp1 = hstack([U.T, csr_matrix(np.zeros((U.shape[1],num_orphan_proteins)))])\n",
    "Reg2 = vstack ([temp1, csr_matrix(np.eye(num_intersection_proteins+num_orphan_proteins))])\n",
    "Reg3 = csr_matrix(scipy.linalg.block_diag(\n",
    "    L.todense(),np.zeros((num_orphan_proteins,num_orphan_proteins))))"
   ]
  },
  {
   "cell_type": "code",
   "execution_count": 19,
   "metadata": {},
   "outputs": [],
   "source": [
    "def plot_regularization_path(lambd_values, beta_values):\n",
    "    num_coeffs = len(beta_values[0])\n",
    "    for i in range(num_coeffs):\n",
    "        plt.plot(lambd_values, [wi[i] for wi in beta_values])\n",
    "    plt.xlabel(r\"$\\alpha$\", fontsize=16)\n",
    "    plt.xscale(\"log\")\n",
    "    plt.title(\"Regularization Path\")\n",
    "    plt.grid()\n",
    "    plt.show()"
   ]
  },
  {
   "cell_type": "markdown",
   "metadata": {},
   "source": [
    "# Vanilla lasso baseline"
   ]
  },
  {
   "cell_type": "code",
   "execution_count": 22,
   "metadata": {},
   "outputs": [
    {
     "data": {
      "application/vnd.jupyter.widget-view+json": {
       "model_id": "50cfc9e970c64494a7d4fc2bc28c3661",
       "version_major": 2,
       "version_minor": 0
      },
      "text/plain": [
       "HBox(children=(IntProgress(value=0, max=10), HTML(value='')))"
      ]
     },
     "metadata": {},
     "output_type": "display_data"
    },
    {
     "name": "stdout",
     "output_type": "stream",
     "text": [
      "\n"
     ]
    }
   ],
   "source": [
    "x = cp.Variable(num_intersection_proteins+num_orphan_proteins)\n",
    "alph = cp.Parameter(nonneg=True)\n",
    "objective = cp.Minimize((1. / (2*A.shape[0])) * cp.sum_squares(A*x - y)+ alph* cp.norm1(Reg0*x))\n",
    "prob = cp.Problem(objective)\n",
    "vanilla_lassos = []\n",
    "vanilla_lasso_train_err = []\n",
    "vanilla_lasso_test_err = []\n",
    "\n",
    "\n",
    "threshold = 0.01\n",
    "alpha_values =  np.logspace(-1, 0, 10)\n",
    "\n",
    "for v in tqdm_notebook(alpha_values):\n",
    "    alph.value = v\n",
    "    prob.solve()\n",
    "    vanilla_lassos.append(x.value)\n",
    "    \n",
    "    cols_to_keep = np.where(np.abs(x.value) > threshold)[0]\n",
    "    if not cols_to_keep.size:\n",
    "        train_err = mean_squared_error(y, np.mean(y)*np.ones(y.shape))\n",
    "        test_err = mean_squared_error(y_test, np.mean(y_test)*np.ones(y_test.shape))\n",
    "    else:\n",
    "        A_new = A[:, cols_to_keep]\n",
    "        Atest_new = Atest[:, cols_to_keep]\n",
    "        regr = linear_model.LinearRegression()\n",
    "        regr.fit(A_new, y)\n",
    "        y_pred_train = regr.predict(A_new)\n",
    "        y_pred_test = regr.predict(Atest_new)\n",
    "        train_err = mean_squared_error(y, y_pred_train)\n",
    "        test_err = mean_squared_error(y_test, y_pred_test)\n",
    "    \n",
    "    vanilla_lasso_train_err.append(train_err)\n",
    "    vanilla_lasso_test_err.append(test_err)"
   ]
  },
  {
   "cell_type": "code",
   "execution_count": 95,
   "metadata": {},
   "outputs": [
    {
     "data": {
      "application/vnd.jupyter.widget-view+json": {
       "model_id": "63a779ece66a416f8fcdfc949ffe0329",
       "version_major": 2,
       "version_minor": 0
      },
      "text/plain": [
       "HBox(children=(IntProgress(value=0, max=10), HTML(value='')))"
      ]
     },
     "metadata": {},
     "output_type": "display_data"
    },
    {
     "name": "stdout",
     "output_type": "stream",
     "text": [
      "\n"
     ]
    }
   ],
   "source": [
    "vanilla_lasso_train_err = []\n",
    "vanilla_lasso_test_err = []\n",
    "\n",
    "threshold = 0.001\n",
    "num_features = 10\n",
    "for star_lasso in tqdm_notebook(vanilla_lassos):\n",
    "    \n",
    "    top_cols = np.argsort(-abs(star_lasso))[:num_features]\n",
    "    cols_to_keep = [x for x in top_cols if np.abs(star_lasso[x])> threshold]\n",
    "    \n",
    "    if not cols_to_keep:\n",
    "        train_err = mean_squared_error(y, np.mean(y)*np.ones(y.shape))\n",
    "        test_err = mean_squared_error(y_test, np.mean(y_test)*np.ones(y_test.shape))\n",
    "    else:\n",
    "        A_new = A[:, cols_to_keep]\n",
    "        Atest_new = Atest[:, cols_to_keep]\n",
    "        regr = linear_model.LinearRegression()\n",
    "        regr.fit(A_new, y)\n",
    "        y_pred_train = regr.predict(A_new)\n",
    "        y_pred_test = regr.predict(Atest_new)\n",
    "        train_err = mean_squared_error(y, y_pred_train)\n",
    "        test_err = mean_squared_error(y_test, y_pred_test)\n",
    "    \n",
    "    vanilla_lasso_train_err.append(train_err)\n",
    "    vanilla_lasso_test_err.append(test_err)"
   ]
  },
  {
   "cell_type": "code",
   "execution_count": 114,
   "metadata": {},
   "outputs": [
    {
     "data": {
      "text/plain": [
       "Text(0.5, 0, '$\\\\alpha$')"
      ]
     },
     "execution_count": 114,
     "metadata": {},
     "output_type": "execute_result"
    },
    {
     "data": {
      "image/png": "[encoded data removed]",
      "text/plain": [
       "<Figure size 432x288 with 1 Axes>"
      ]
     },
     "metadata": {
      "needs_background": "light"
     },
     "output_type": "display_data"
    }
   ],
   "source": [
    "plt.plot(alpha_values, vanilla_lasso_train_err, label=\"train\")\n",
    "plt.plot(alpha_values, vanilla_lasso_test_err, label=\"test\")\n",
    "plt.legend()\n",
    "plt.grid()\n",
    "plt.xscale('log')\n",
    "plt.ylabel(\"MSE\")\n",
    "plt.xlabel(r\"$\\alpha$\")"
   ]
  },
  {
   "cell_type": "markdown",
   "metadata": {},
   "source": [
    "# Laplacian Lasso"
   ]
  },
  {
   "cell_type": "code",
   "execution_count": 99,
   "metadata": {},
   "outputs": [
    {
     "data": {
      "application/vnd.jupyter.widget-view+json": {
       "model_id": "c530a243815f44729ae30977b73d20b1",
       "version_major": 2,
       "version_minor": 0
      },
      "text/plain": [
       "HBox(children=(IntProgress(value=0, max=10), HTML(value='')))"
      ]
     },
     "metadata": {},
     "output_type": "display_data"
    },
    {
     "name": "stdout",
     "output_type": "stream",
     "text": [
      "0.1\n",
      "0.1291549665014884\n",
      "0.16681005372000587\n",
      "0.21544346900318834\n",
      "0.2782559402207124\n",
      "0.35938136638046275\n",
      "0.46415888336127786\n",
      "0.5994842503189409\n",
      "0.774263682681127\n",
      "1.0\n",
      "\n"
     ]
    }
   ],
   "source": [
    "x = cp.Variable(num_intersection_proteins+num_orphan_proteins)\n",
    "alph = cp.Parameter(nonneg=True)\n",
    "objective = cp.Minimize((1. / (2*A.shape[0])) * cp.sum_squares(A*x - y)+ alph* cp.norm1(Reg1*x))\n",
    "prob = cp.Problem(objective)\n",
    "laplacian_lassos = []\n",
    "laplacian_lasso_train_err = []\n",
    "laplacian_lasso_test_err = []\n",
    "\n",
    "threshold = 0.01\n",
    "alpha_values =  np.logspace(-1, 0, 10)\n",
    "\n",
    "for v in tqdm_notebook(alpha_values):\n",
    "    alph.value = v\n",
    "#     print(v)\n",
    "    prob.solve()\n",
    "    laplacian_lassos.append(x.value)\n",
    "    \n",
    "    cols_to_keep = np.where(np.abs(x.value) > threshold)[0]\n",
    "    if not cols_to_keep.size:\n",
    "        train_err = mean_squared_error(y, np.mean(y)*np.ones(y.shape))\n",
    "        test_err = mean_squared_error(y_test, np.mean(y_test)*np.ones(y_test.shape))\n",
    "    else:\n",
    "        A_new = A[:, cols_to_keep]\n",
    "        Atest_new = Atest[:, cols_to_keep]\n",
    "        regr = linear_model.LinearRegression()\n",
    "        regr.fit(A_new, y)\n",
    "        y_pred_train = regr.predict(A_new)\n",
    "        y_pred_test = regr.predict(Atest_new)\n",
    "        train_err = mean_squared_error(y, y_pred_train)\n",
    "        test_err = mean_squared_error(y_test, y_pred_test)\n",
    "    \n",
    "    laplacian_lasso_train_err.append(train_err)\n",
    "    laplacian_lasso_test_err.append(test_err)"
   ]
  },
  {
   "cell_type": "code",
   "execution_count": 110,
   "metadata": {
    "scrolled": true
   },
   "outputs": [
    {
     "data": {
      "application/vnd.jupyter.widget-view+json": {
       "model_id": "b7c48fb7d83344f58fa79d0ce2dcca1a",
       "version_major": 2,
       "version_minor": 0
      },
      "text/plain": [
       "HBox(children=(IntProgress(value=0, max=10), HTML(value='')))"
      ]
     },
     "metadata": {},
     "output_type": "display_data"
    },
    {
     "name": "stdout",
     "output_type": "stream",
     "text": [
      "\n"
     ]
    }
   ],
   "source": [
    "laplacian_lasso_train_err = []\n",
    "laplacian_lasso_test_err = []\n",
    "\n",
    "threshold = 0.001\n",
    "num_features = 10\n",
    "cols_kept_laplacian = []\n",
    "for laplacian_lasso in tqdm_notebook(laplacian_lassos):\n",
    "    \n",
    "    top_cols = np.argsort(-abs(laplacian_lasso))[:num_features]\n",
    "    cols_to_keep = [x for x in top_cols if np.abs(laplacian_lasso[x])> threshold]\n",
    "    cols_kept_laplacian.append(cols_to_keep)\n",
    "    if not cols_to_keep:\n",
    "        train_err = mean_squared_error(y, np.mean(y)*np.ones(y.shape))\n",
    "        test_err = mean_squared_error(y_test, np.mean(y_test)*np.ones(y_test.shape))\n",
    "    else:\n",
    "        A_new = A[:, cols_to_keep]\n",
    "        Atest_new = Atest[:, cols_to_keep]\n",
    "        regr = linear_model.LinearRegression()\n",
    "        regr.fit(A_new, y)\n",
    "        y_pred_train = regr.predict(A_new)\n",
    "        y_pred_test = regr.predict(Atest_new)\n",
    "        train_err = mean_squared_error(y, y_pred_train)\n",
    "        test_err = mean_squared_error(y_test, y_pred_test)\n",
    "    \n",
    "    laplacian_lasso_train_err.append(train_err)\n",
    "    laplacian_lasso_test_err.append(test_err)"
   ]
  },
  {
   "cell_type": "code",
   "execution_count": 100,
   "metadata": {},
   "outputs": [
    {
     "data": {
      "text/plain": [
       "Text(0.5, 0, '$\\\\alpha$')"
      ]
     },
     "execution_count": 100,
     "metadata": {},
     "output_type": "execute_result"
    },
    {
     "data": {
      "image/png": "[encoded data removed]",
      "text/plain": [
       "<Figure size 432x288 with 1 Axes>"
      ]
     },
     "metadata": {
      "needs_background": "light"
     },
     "output_type": "display_data"
    }
   ],
   "source": [
    "plt.plot(alpha_values, laplacian_lasso_train_err, label=\"train\")\n",
    "plt.plot(alpha_values, laplacian_lasso_test_err, label=\"test\")\n",
    "plt.legend()\n",
    "plt.grid()\n",
    "plt.xscale('log')\n",
    "plt.ylabel(\"MSE\")\n",
    "plt.xlabel(r\"$\\alpha$\")"
   ]
  },
  {
   "cell_type": "code",
   "execution_count": 101,
   "metadata": {},
   "outputs": [
    {
     "data": {
      "image/png": "[encoded data removed]",
      "text/plain": [
       "<Figure size 432x288 with 1 Axes>"
      ]
     },
     "metadata": {
      "needs_background": "light"
     },
     "output_type": "display_data"
    }
   ],
   "source": [
    "plot_regularization_path(alpha_values, laplacian_lassos)"
   ]
  },
  {
   "cell_type": "code",
   "execution_count": 113,
   "metadata": {},
   "outputs": [
    {
     "name": "stdout",
     "output_type": "stream",
     "text": [
      "[('S100B', 20), ('S100A1', 19), ('CBS', 351), ('COX6B1', 48), ('S100A4', 28), ('SPG21', 15), ('S100A11', 16), ('CACYBP', 54), ('S100A6', 19), ('UCHL3', 55)]\n",
      "['S100B', 'S100A1', 'CBS', 'COX6B1', 'S100A4', 'SPG21', 'S100A11', 'CACYBP', 'S100A6', 'UCHL3']\n"
     ]
    },
    {
     "data": {
      "image/png": "[encoded data removed]",
      "text/plain": [
       "<Figure size 432x288 with 1 Axes>"
      ]
     },
     "metadata": {
      "needs_background": "light"
     },
     "output_type": "display_data"
    }
   ],
   "source": [
    "plt.plot(laplacian_lassos[6])\n",
    "plt.grid()\n",
    "print(g.degree(protein_number_to_names[z] for z in cols_kept_laplacian[6]))\n",
    "print([protein_number_to_names[z] for z in cols_kept_laplacian[6]])"
   ]
  },
  {
   "cell_type": "markdown",
   "metadata": {},
   "source": [
    "# Laplacian Elastic Net"
   ]
  },
  {
   "cell_type": "code",
   "execution_count": 125,
   "metadata": {},
   "outputs": [
    {
     "data": {
      "application/vnd.jupyter.widget-view+json": {
       "model_id": "d87d9e2e131043e89b3e47da1b481796",
       "version_major": 2,
       "version_minor": 0
      },
      "text/plain": [
       "HBox(children=(IntProgress(value=1, bar_style='info', max=1), HTML(value='')))"
      ]
     },
     "metadata": {},
     "output_type": "display_data"
    },
    {
     "data": {
      "application/vnd.jupyter.widget-view+json": {
       "model_id": "62db2f54cca446cc8aab4d4c26747d71",
       "version_major": 2,
       "version_minor": 0
      },
      "text/plain": [
       "HBox(children=(IntProgress(value=1, bar_style='info', max=1), HTML(value='')))"
      ]
     },
     "metadata": {},
     "output_type": "display_data"
    },
    {
     "name": "stdout",
     "output_type": "stream",
     "text": [
      "\n"
     ]
    },
    {
     "data": {
      "application/vnd.jupyter.widget-view+json": {
       "model_id": "ad35fc01f82d488e9f25cb6b3af68716",
       "version_major": 2,
       "version_minor": 0
      },
      "text/plain": [
       "HBox(children=(IntProgress(value=1, bar_style='info', max=1), HTML(value='')))"
      ]
     },
     "metadata": {},
     "output_type": "display_data"
    },
    {
     "name": "stdout",
     "output_type": "stream",
     "text": [
      "\n"
     ]
    },
    {
     "data": {
      "application/vnd.jupyter.widget-view+json": {
       "model_id": "97439e490afa4f65b081c0534a4b37c5",
       "version_major": 2,
       "version_minor": 0
      },
      "text/plain": [
       "HBox(children=(IntProgress(value=1, bar_style='info', max=1), HTML(value='')))"
      ]
     },
     "metadata": {},
     "output_type": "display_data"
    },
    {
     "name": "stdout",
     "output_type": "stream",
     "text": [
      "\n"
     ]
    },
    {
     "data": {
      "application/vnd.jupyter.widget-view+json": {
       "model_id": "9fffbbffa4694fbfa2cbdddc36666996",
       "version_major": 2,
       "version_minor": 0
      },
      "text/plain": [
       "HBox(children=(IntProgress(value=1, bar_style='info', max=1), HTML(value='')))"
      ]
     },
     "metadata": {},
     "output_type": "display_data"
    },
    {
     "name": "stdout",
     "output_type": "stream",
     "text": [
      "\n"
     ]
    },
    {
     "data": {
      "application/vnd.jupyter.widget-view+json": {
       "model_id": "c2451d555d314842b9dbb16eddee1223",
       "version_major": 2,
       "version_minor": 0
      },
      "text/plain": [
       "HBox(children=(IntProgress(value=1, bar_style='info', max=1), HTML(value='')))"
      ]
     },
     "metadata": {},
     "output_type": "display_data"
    },
    {
     "name": "stdout",
     "output_type": "stream",
     "text": [
      "\n"
     ]
    },
    {
     "data": {
      "application/vnd.jupyter.widget-view+json": {
       "model_id": "70ccd2c1089b423f8e67193b12dd7476",
       "version_major": 2,
       "version_minor": 0
      },
      "text/plain": [
       "HBox(children=(IntProgress(value=1, bar_style='info', max=1), HTML(value='')))"
      ]
     },
     "metadata": {},
     "output_type": "display_data"
    },
    {
     "name": "stdout",
     "output_type": "stream",
     "text": [
      "\n"
     ]
    },
    {
     "data": {
      "application/vnd.jupyter.widget-view+json": {
       "model_id": "98e3fef3c71a4140b0e2fe4d838722e5",
       "version_major": 2,
       "version_minor": 0
      },
      "text/plain": [
       "HBox(children=(IntProgress(value=1, bar_style='info', max=1), HTML(value='')))"
      ]
     },
     "metadata": {},
     "output_type": "display_data"
    },
    {
     "name": "stdout",
     "output_type": "stream",
     "text": [
      "\n"
     ]
    },
    {
     "data": {
      "application/vnd.jupyter.widget-view+json": {
       "model_id": "266b385ce77d465b8156977dc319ba48",
       "version_major": 2,
       "version_minor": 0
      },
      "text/plain": [
       "HBox(children=(IntProgress(value=1, bar_style='info', max=1), HTML(value='')))"
      ]
     },
     "metadata": {},
     "output_type": "display_data"
    },
    {
     "name": "stdout",
     "output_type": "stream",
     "text": [
      "\n"
     ]
    },
    {
     "data": {
      "application/vnd.jupyter.widget-view+json": {
       "model_id": "0367445393a94ed6bee6314dc3712895",
       "version_major": 2,
       "version_minor": 0
      },
      "text/plain": [
       "HBox(children=(IntProgress(value=1, bar_style='info', max=1), HTML(value='')))"
      ]
     },
     "metadata": {},
     "output_type": "display_data"
    },
    {
     "name": "stdout",
     "output_type": "stream",
     "text": [
      "\n"
     ]
    },
    {
     "data": {
      "application/vnd.jupyter.widget-view+json": {
       "model_id": "fd9ba822816f4cd6a6ec07251b0e487e",
       "version_major": 2,
       "version_minor": 0
      },
      "text/plain": [
       "HBox(children=(IntProgress(value=1, bar_style='info', max=1), HTML(value='')))"
      ]
     },
     "metadata": {},
     "output_type": "display_data"
    },
    {
     "name": "stdout",
     "output_type": "stream",
     "text": [
      "\n",
      "\n"
     ]
    }
   ],
   "source": [
    "lambda_values = np.logspace(-2, 0, 10)\n",
    "alpha_values = [0.1, 0.5, 0.9]\n",
    "hyperparameters_laplacian_elnet = np.zeros((len(lambda_values), \n",
    "                    len(alpha_values),\n",
    "                    num_intersection_proteins+num_orphan_proteins))\n",
    "\n",
    "lambd1 = cp.Parameter(nonneg=True)\n",
    "lambd2 = cp.Parameter(nonneg=True)\n",
    "x = cp.Variable(num_intersection_proteins+num_orphan_proteins)\n",
    "objective = cp.Minimize((1. / (2*A.shape[0])) * cp.sum_squares(A*x - y)+ \n",
    "                        lambd1* cp.sum_squares(Reg3*x) +\n",
    "                       lambd2*cp.norm1(x))\n",
    "prob = cp.Problem(objective)\n",
    "\n",
    "for ind1, v in tqdm_notebook(enumerate(lambda_values)):\n",
    "    for ind2, u in tqdm_notebook(enumerate(alpha_values)):\n",
    "        lambd1.value = v*u\n",
    "        lambd2.value = (1-v)*u\n",
    "        prob.solve()\n",
    "        hyperparameters_laplacian_elnet[ind1,ind2,:] = x.value"
   ]
  },
  {
   "cell_type": "code",
   "execution_count": 154,
   "metadata": {},
   "outputs": [
    {
     "data": {
      "application/vnd.jupyter.widget-view+json": {
       "model_id": "c6aff3291fd0413ba8261142fdff4520",
       "version_major": 2,
       "version_minor": 0
      },
      "text/plain": [
       "HBox(children=(IntProgress(value=1, bar_style='info', max=1), HTML(value='')))"
      ]
     },
     "metadata": {},
     "output_type": "display_data"
    },
    {
     "name": "stdout",
     "output_type": "stream",
     "text": [
      "\n"
     ]
    }
   ],
   "source": [
    "laplacian_elnet_train_err = np.zeros((len(lambda_values),len(alpha_values)))\n",
    "laplacian_elnet_test_err = np.zeros((len(lambda_values), \n",
    "                    len(alpha_values)))\n",
    "                                    \n",
    "cols_kept_laplacian_elnet = [[[]for x in alpha_values] for y in lambda_values]\n",
    "\n",
    "threshold = 0.001\n",
    "num_features = 10\n",
    "\n",
    "for ind1, v in tqdm_notebook(enumerate(lambda_values)):\n",
    "    for ind2, u in enumerate(alpha_values):\n",
    "        laplacian_elnet = hyperparameters_laplacian_elnet[ind1][ind2][:]\n",
    "            \n",
    "        top_cols = np.argsort(-abs(laplacian_elnet))[:num_features]\n",
    "        cols_to_keep = [x for x in top_cols if np.abs(laplacian_elnet[x])> threshold]\n",
    "        cols_kept_laplacian_elnet[ind1][ind2] = cols_to_keep\n",
    "                                    \n",
    "        if not cols_to_keep:\n",
    "            train_err = mean_squared_error(y, np.mean(y)*np.ones(y.shape))\n",
    "            test_err = mean_squared_error(y_test, np.mean(y_test)*np.ones(y_test.shape))\n",
    "        else:\n",
    "            A_new = A[:, cols_to_keep]\n",
    "            Atest_new = Atest[:, cols_to_keep]\n",
    "            regr = linear_model.LinearRegression()\n",
    "            regr.fit(A_new, y)\n",
    "            y_pred_train = regr.predict(A_new)\n",
    "            y_pred_test = regr.predict(Atest_new)\n",
    "            train_err = mean_squared_error(y, y_pred_train)\n",
    "            test_err = mean_squared_error(y_test, y_pred_test)\n",
    "    \n",
    "        laplacian_elnet_train_err[ind1][ind2] = train_err\n",
    "        laplacian_elnet_test_err[ind1][ind2] = test_err"
   ]
  },
  {
   "cell_type": "code",
   "execution_count": 156,
   "metadata": {},
   "outputs": [
    {
     "name": "stdout",
     "output_type": "stream",
     "text": [
      "Train errors\n",
      "[[0.20376602 0.6667349  1.        ]\n",
      " [0.20376602 0.6667349  1.        ]\n",
      " [0.20376602 0.6667349  1.        ]\n",
      " [0.20376602 0.6667349  1.        ]\n",
      " [0.20376602 0.5963654  1.        ]\n",
      " [0.20376602 0.50524708 1.        ]\n",
      " [0.18864505 0.40567325 1.        ]\n",
      " [0.18864505 0.31480406 1.        ]\n",
      " [0.22681757 0.23231955 0.33953842]\n",
      " [0.48633974 0.48633974 0.48633974]]\n",
      "Test errors\n",
      "[[1.50180447 0.80374904 1.        ]\n",
      " [1.50180447 0.80374904 1.        ]\n",
      " [1.50180447 0.80374904 1.        ]\n",
      " [1.50180447 0.80374904 1.        ]\n",
      " [1.50180447 0.88428971 1.        ]\n",
      " [1.50180447 1.04018842 1.        ]\n",
      " [1.48323445 1.29057712 1.        ]\n",
      " [1.48323445 1.64143047 1.        ]\n",
      " [1.39431618 1.45857606 1.44515267]\n",
      " [1.35836633 1.35836633 1.35836633]]\n"
     ]
    }
   ],
   "source": [
    "print(\"Train errors\")\n",
    "print(laplacian_elnet_train_err)\n",
    "print(\"Test errors\")\n",
    "print(laplacian_elnet_test_err)"
   ]
  },
  {
   "cell_type": "code",
   "execution_count": 158,
   "metadata": {},
   "outputs": [
    {
     "name": "stdout",
     "output_type": "stream",
     "text": [
      "[('S100A1', 19), ('MTPN', 13)]\n",
      "['S100A1', 'MTPN']\n"
     ]
    },
    {
     "data": {
      "image/png": "[encoded data removed]",
      "text/plain": [
       "<Figure size 432x288 with 1 Axes>"
      ]
     },
     "metadata": {
      "needs_background": "light"
     },
     "output_type": "display_data"
    }
   ],
   "source": [
    "plt.plot(hyperparameters_laplacian_elnet[2][1])\n",
    "plt.grid()\n",
    "print(g.degree(protein_number_to_names[z] for z in cols_kept_laplacian_elnet[2][1]))\n",
    "print([protein_number_to_names[z] for z in cols_kept_laplacian_elnet[2][1]])"
   ]
  },
  {
   "cell_type": "markdown",
   "metadata": {},
   "source": [
    "# Incidence Lasso"
   ]
  },
  {
   "cell_type": "code",
   "execution_count": 20,
   "metadata": {},
   "outputs": [],
   "source": [
    "for ed in g.edges():\n",
    "    norm_conf = g.edges[ed][\"confidence\"]*(1./ g.degree(ed[0], \"confidence\") + 1./ g.degree(ed[0], \"confidence\"))\n",
    "    g.edges[ed].update(norm_conf=norm_conf)\n",
    "    \n",
    "U1 = nx.incidence_matrix(g,nodelist=nodlist, oriented=True, weight=\"norm_conf\")\n",
    "Reg4 = hstack([U1.T, csr_matrix(np.zeros((U1.shape[1],num_orphan_proteins)))])"
   ]
  },
  {
   "cell_type": "code",
   "execution_count": 184,
   "metadata": {},
   "outputs": [
    {
     "data": {
      "application/vnd.jupyter.widget-view+json": {
       "model_id": "5fc419caad6e489a97c7bd4aae9605f9",
       "version_major": 2,
       "version_minor": 0
      },
      "text/plain": [
       "HBox(children=(IntProgress(value=1, bar_style='info', max=1), HTML(value='')))"
      ]
     },
     "metadata": {},
     "output_type": "display_data"
    },
    {
     "data": {
      "application/vnd.jupyter.widget-view+json": {
       "model_id": "bf187dae40134082a1a67d13732b0743",
       "version_major": 2,
       "version_minor": 0
      },
      "text/plain": [
       "HBox(children=(IntProgress(value=1, bar_style='info', max=1), HTML(value='')))"
      ]
     },
     "metadata": {},
     "output_type": "display_data"
    },
    {
     "name": "stdout",
     "output_type": "stream",
     "text": [
      "\n"
     ]
    },
    {
     "data": {
      "application/vnd.jupyter.widget-view+json": {
       "model_id": "c05d65528d2c4322a88c01cce0250c30",
       "version_major": 2,
       "version_minor": 0
      },
      "text/plain": [
       "HBox(children=(IntProgress(value=1, bar_style='info', max=1), HTML(value='')))"
      ]
     },
     "metadata": {},
     "output_type": "display_data"
    },
    {
     "name": "stdout",
     "output_type": "stream",
     "text": [
      "\n"
     ]
    },
    {
     "data": {
      "application/vnd.jupyter.widget-view+json": {
       "model_id": "b28f3838ab3b4c4bb4451d18d15c2983",
       "version_major": 2,
       "version_minor": 0
      },
      "text/plain": [
       "HBox(children=(IntProgress(value=1, bar_style='info', max=1), HTML(value='')))"
      ]
     },
     "metadata": {},
     "output_type": "display_data"
    },
    {
     "name": "stdout",
     "output_type": "stream",
     "text": [
      "\n"
     ]
    },
    {
     "data": {
      "application/vnd.jupyter.widget-view+json": {
       "model_id": "60bb1c4dde0f4a94a86240266b29cd30",
       "version_major": 2,
       "version_minor": 0
      },
      "text/plain": [
       "HBox(children=(IntProgress(value=1, bar_style='info', max=1), HTML(value='')))"
      ]
     },
     "metadata": {},
     "output_type": "display_data"
    },
    {
     "name": "stdout",
     "output_type": "stream",
     "text": [
      "\n"
     ]
    },
    {
     "data": {
      "application/vnd.jupyter.widget-view+json": {
       "model_id": "15f913b775964c9dbb8ed31f1fc1ade7",
       "version_major": 2,
       "version_minor": 0
      },
      "text/plain": [
       "HBox(children=(IntProgress(value=1, bar_style='info', max=1), HTML(value='')))"
      ]
     },
     "metadata": {},
     "output_type": "display_data"
    },
    {
     "name": "stdout",
     "output_type": "stream",
     "text": [
      "\n"
     ]
    },
    {
     "data": {
      "application/vnd.jupyter.widget-view+json": {
       "model_id": "df90b662afd84a9a918fa56a80f965d9",
       "version_major": 2,
       "version_minor": 0
      },
      "text/plain": [
       "HBox(children=(IntProgress(value=1, bar_style='info', max=1), HTML(value='')))"
      ]
     },
     "metadata": {},
     "output_type": "display_data"
    },
    {
     "name": "stdout",
     "output_type": "stream",
     "text": [
      "\n"
     ]
    },
    {
     "data": {
      "application/vnd.jupyter.widget-view+json": {
       "model_id": "66c4d76039e943229ec94558420863ba",
       "version_major": 2,
       "version_minor": 0
      },
      "text/plain": [
       "HBox(children=(IntProgress(value=1, bar_style='info', max=1), HTML(value='')))"
      ]
     },
     "metadata": {},
     "output_type": "display_data"
    },
    {
     "name": "stdout",
     "output_type": "stream",
     "text": [
      "\n"
     ]
    },
    {
     "data": {
      "application/vnd.jupyter.widget-view+json": {
       "model_id": "ca7662822fbe4b148617193f30248ac0",
       "version_major": 2,
       "version_minor": 0
      },
      "text/plain": [
       "HBox(children=(IntProgress(value=1, bar_style='info', max=1), HTML(value='')))"
      ]
     },
     "metadata": {},
     "output_type": "display_data"
    },
    {
     "name": "stdout",
     "output_type": "stream",
     "text": [
      "\n"
     ]
    },
    {
     "data": {
      "application/vnd.jupyter.widget-view+json": {
       "model_id": "94c578c96cf94fe1a03c4f78b5e1721e",
       "version_major": 2,
       "version_minor": 0
      },
      "text/plain": [
       "HBox(children=(IntProgress(value=1, bar_style='info', max=1), HTML(value='')))"
      ]
     },
     "metadata": {},
     "output_type": "display_data"
    },
    {
     "name": "stdout",
     "output_type": "stream",
     "text": [
      "\n"
     ]
    },
    {
     "data": {
      "application/vnd.jupyter.widget-view+json": {
       "model_id": "8596abf56782496cb9e47a7dd9a31a01",
       "version_major": 2,
       "version_minor": 0
      },
      "text/plain": [
       "HBox(children=(IntProgress(value=1, bar_style='info', max=1), HTML(value='')))"
      ]
     },
     "metadata": {},
     "output_type": "display_data"
    },
    {
     "name": "stdout",
     "output_type": "stream",
     "text": [
      "\n",
      "\n"
     ]
    }
   ],
   "source": [
    "lambda_values = np.logspace(-2, np.log10(0.6), 10)\n",
    "alpha_values = [0.1, 0.5, 0.9]\n",
    "incidence_lassos = np.zeros((len(lambda_values), \n",
    "                    len(alpha_values),\n",
    "                    num_intersection_proteins+num_orphan_proteins))\n",
    "\n",
    "lambd1 = cp.Parameter(nonneg=True)\n",
    "lambd2 = cp.Parameter(nonneg=True)\n",
    "x = cp.Variable(num_intersection_proteins+num_orphan_proteins)\n",
    "objective = cp.Minimize((1. / (2*A.shape[0])) * cp.sum_squares(A*x - y)+ \n",
    "                        lambd1* cp.norm1(Reg4*x) +\n",
    "                       lambd2*cp.norm1(x))\n",
    "prob = cp.Problem(objective)\n",
    "\n",
    "for ind1, v in tqdm_notebook(enumerate(lambda_values)):\n",
    "    for ind2, u in tqdm_notebook(enumerate(alpha_values)):\n",
    "        lambd1.value = v*u\n",
    "        lambd2.value = (1-v)*u\n",
    "        prob.solve()\n",
    "        incidence_lassos[ind1,ind2,:] = x.value"
   ]
  },
  {
   "cell_type": "code",
   "execution_count": 185,
   "metadata": {},
   "outputs": [
    {
     "data": {
      "application/vnd.jupyter.widget-view+json": {
       "model_id": "aa94b9aba4e6454e8a243a6ad3050913",
       "version_major": 2,
       "version_minor": 0
      },
      "text/plain": [
       "HBox(children=(IntProgress(value=1, bar_style='info', max=1), HTML(value='')))"
      ]
     },
     "metadata": {},
     "output_type": "display_data"
    },
    {
     "name": "stdout",
     "output_type": "stream",
     "text": [
      "\n"
     ]
    }
   ],
   "source": [
    "incidence_lasso_train_err = np.zeros((len(lambda_values),len(alpha_values)))\n",
    "incidence_lasso_test_err = np.zeros((len(lambda_values), \n",
    "                    len(alpha_values)))\n",
    "                                    \n",
    "cols_kept_incidence_lasso = [[[]for x in alpha_values] for y in lambda_values]\n",
    "\n",
    "threshold = 0.001\n",
    "num_features = 10\n",
    "\n",
    "for ind1, v in tqdm_notebook(enumerate(lambda_values)):\n",
    "    for ind2, u in enumerate(alpha_values):\n",
    "        incidence_lasso = incidence_lassos[ind1][ind2][:]\n",
    "            \n",
    "        top_cols = np.argsort(-abs(incidence_lasso))[:num_features]\n",
    "        cols_to_keep = [x for x in top_cols if np.abs(incidence_lasso[x])> threshold]\n",
    "        cols_kept_incidence_lasso[ind1][ind2] = cols_to_keep\n",
    "                                    \n",
    "        if not cols_to_keep:\n",
    "            train_err = mean_squared_error(y, np.mean(y)*np.ones(y.shape))\n",
    "            test_err = mean_squared_error(y_test, np.mean(y_test)*np.ones(y_test.shape))\n",
    "        else:\n",
    "            A_new = A[:, cols_to_keep]\n",
    "            Atest_new = Atest[:, cols_to_keep]\n",
    "            regr = linear_model.LinearRegression()\n",
    "            regr.fit(A_new, y)\n",
    "            y_pred_train = regr.predict(A_new)\n",
    "            y_pred_test = regr.predict(Atest_new)\n",
    "            train_err = mean_squared_error(y, y_pred_train)\n",
    "            test_err = mean_squared_error(y_test, y_pred_test)\n",
    "    \n",
    "        incidence_lasso_train_err[ind1][ind2] = train_err\n",
    "        incidence_lasso_test_err[ind1][ind2] = test_err"
   ]
  },
  {
   "cell_type": "code",
   "execution_count": 186,
   "metadata": {},
   "outputs": [
    {
     "name": "stdout",
     "output_type": "stream",
     "text": [
      "Train errors\n",
      "[[0.2165642  0.6667349  1.        ]\n",
      " [0.1888002  0.6667349  1.        ]\n",
      " [0.1888002  0.6667349  1.        ]\n",
      " [0.1888002  0.6667349  1.        ]\n",
      " [0.18103653 0.6667349  1.        ]\n",
      " [0.15979049 0.6667349  1.        ]\n",
      " [0.17913173 0.6667349  1.        ]\n",
      " [0.22034334 0.48817261 1.        ]\n",
      " [0.23457972 0.48038129 1.        ]\n",
      " [0.31957898 0.36951735 0.57073997]]\n",
      "Test errors\n",
      "[[1.49750504 0.80374904 1.        ]\n",
      " [1.54438079 0.80374904 1.        ]\n",
      " [1.54438079 0.80374904 1.        ]\n",
      " [1.54438079 0.80374904 1.        ]\n",
      " [1.50428633 0.80374904 1.        ]\n",
      " [1.39710719 0.80374904 1.        ]\n",
      " [1.26704416 0.80374904 1.        ]\n",
      " [1.24657188 0.94449972 1.        ]\n",
      " [1.35791322 1.2369432  1.        ]\n",
      " [1.20836035 1.08848172 0.96228603]]\n"
     ]
    }
   ],
   "source": [
    "print(\"Train errors\")\n",
    "print(incidence_lasso_train_err)\n",
    "print(\"Test errors\")\n",
    "print(incidence_lasso_test_err)"
   ]
  },
  {
   "cell_type": "code",
   "execution_count": 187,
   "metadata": {},
   "outputs": [
    {
     "name": "stdout",
     "output_type": "stream",
     "text": [
      "[('S100A1', 19), ('MTPN', 13)]\n",
      "['S100A1', 'MTPN']\n"
     ]
    },
    {
     "data": {
      "image/png": "[encoded data removed]",
      "text/plain": [
       "<Figure size 432x288 with 1 Axes>"
      ]
     },
     "metadata": {
      "needs_background": "light"
     },
     "output_type": "display_data"
    }
   ],
   "source": [
    "plt.plot(incidence_lassos[0][1])\n",
    "plt.grid()\n",
    "print(g.degree(protein_number_to_names[z] for z in cols_kept_incidence_lasso[0][1]))\n",
    "print([protein_number_to_names[z] for z in cols_kept_incidence_lasso[0][1]])"
   ]
  },
  {
   "cell_type": "markdown",
   "metadata": {},
   "source": [
    "# Incidence Elnet"
   ]
  },
  {
   "cell_type": "code",
   "execution_count": null,
   "metadata": {},
   "outputs": [],
   "source": [
    "lambda_values = np.logspace(-2, np.log10(0.6), 5)\n",
    "alpha_values = [0.1, 0.5, 0.9]\n",
    "incidence_elnets = np.zeros((len(lambda_values), \n",
    "                    len(alpha_values),\n",
    "                    num_intersection_proteins+num_orphan_proteins))\n",
    "\n",
    "lambda_values = [0.01]\n",
    "alpha_values = [0.5]\n",
    "\n",
    "lambd1 = cp.Parameter(nonneg=True)\n",
    "lambd2 = cp.Parameter(nonneg=True)\n",
    "x = cp.Variable(num_intersection_proteins+num_orphan_proteins)\n",
    "objective = cp.Minimize((1. / (2*A.shape[0])) * cp.sum_squares(A*x - y)+ \n",
    "                        lambd1* cp.sum_squares(Reg4*x) +\n",
    "                       lambd2*cp.norm1(x))\n",
    "prob = cp.Problem(objective)\n",
    "\n",
    "for ind1, v in tqdm_notebook(enumerate(lambda_values)):\n",
    "    for ind2, u in tqdm_notebook(enumerate(alpha_values)):\n",
    "        lambd1.value = v*u\n",
    "        lambd2.value = (1-v)*u\n",
    "        prob.solve()\n",
    "        incidence_elnets[ind1,ind2,:] = x.value"
   ]
  },
  {
   "cell_type": "code",
   "execution_count": null,
   "metadata": {},
   "outputs": [],
   "source": [
    "incidence_elnet_train_err = np.zeros((len(lambda_values),len(alpha_values)))\n",
    "incidence_elnet_test_err = np.zeros((len(lambda_values), \n",
    "                    len(alpha_values)))\n",
    "                                    \n",
    "cols_kept_incidence_elnet = [[[]for x in alpha_values] for y in lambda_values]\n",
    "\n",
    "threshold = 0.001\n",
    "num_features = 10\n",
    "\n",
    "for ind1, v in tqdm_notebook(enumerate(lambda_values)):\n",
    "    for ind2, u in enumerate(alpha_values):\n",
    "        incidence_elnet = incidence_elnets[ind1][ind2][:]\n",
    "            \n",
    "        top_cols = np.argsort(-abs(incidence_elnet))[:num_features]\n",
    "        cols_to_keep = [x for x in top_cols if np.abs(incidence_elnet[x])> threshold]\n",
    "        cols_kept_incidence_elnet[ind1][ind2] = cols_to_keep\n",
    "                                    \n",
    "        if not cols_to_keep:\n",
    "            train_err = mean_squared_error(y, np.mean(y)*np.ones(y.shape))\n",
    "            test_err = mean_squared_error(y_test, np.mean(y_test)*np.ones(y_test.shape))\n",
    "        else:\n",
    "            A_new = A[:, cols_to_keep]\n",
    "            Atest_new = Atest[:, cols_to_keep]\n",
    "            regr = linear_model.LinearRegression()\n",
    "            regr.fit(A_new, y)\n",
    "            y_pred_train = regr.predict(A_new)\n",
    "            y_pred_test = regr.predict(Atest_new)\n",
    "            train_err = mean_squared_error(y, y_pred_train)\n",
    "            test_err = mean_squared_error(y_test, y_pred_test)\n",
    "    \n",
    "        incidence_elnet_train_err[ind1][ind2] = train_err\n",
    "        incidence_elnet_test_err[ind1][ind2] = test_err"
   ]
  }
 ],
 "metadata": {
  "kernelspec": {
   "display_name": "Python 3",
   "language": "python",
   "name": "python3"
  },
  "language_info": {
   "codemirror_mode": {
    "name": "ipython",
    "version": 3
   },
   "file_extension": ".py",
   "mimetype": "text/x-python",
   "name": "python",
   "nbconvert_exporter": "python",
   "pygments_lexer": "ipython3",
   "version": "3.7.3"
  }
 },
 "nbformat": 4,
 "nbformat_minor": 2
}
