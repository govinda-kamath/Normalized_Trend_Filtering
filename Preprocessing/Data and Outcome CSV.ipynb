{
 "cells": [
  {
   "cell_type": "markdown",
   "metadata": {},
   "source": [
    "## Import modules"
   ]
  },
  {
   "cell_type": "code",
   "execution_count": 50,
   "metadata": {},
   "outputs": [],
   "source": [
    "import pandas as pd\n",
    "import os\n",
    "import numpy as np\n",
    "from copy import deepcopy\n",
    "from sklearn.preprocessing import StandardScaler\n",
    "module_path = os.path.abspath(os.path.join('..'))"
   ]
  },
  {
   "cell_type": "markdown",
   "metadata": {},
   "source": [
    "## Load and preprocess"
   ]
  },
  {
   "cell_type": "code",
   "execution_count": 51,
   "metadata": {
    "scrolled": true
   },
   "outputs": [],
   "source": [
    "all_data = pd.ExcelFile(module_path + \"/data/harel/tableS1.xlsx\")\n",
    "\n",
    "clinical_response_df = all_data.parse('S1A', header = 1) #load in clinical and response data\n",
    "\n",
    "response_df = clinical_response_df.loc[:,['Sample ID','Response', 'PFS time (months)', 'OS time (months)']] #response data\n",
    "\n",
    "clinical_df = clinical_response_df.drop(columns = ['Response', 'PFS time (months)', 'OS time (months)']) #clinical data\n",
    "\n",
    "protein_df = all_data.parse('S1B', header = 1) #load in protein data\n",
    "protein_df = protein_df.drop(columns = ['T: Protein IDs', 'T: Majority protein IDs', 'T: Protein names', 'T: ENSG'])\n",
    "protein_df = protein_df.dropna(subset=['T: Gene names']).reset_index(drop = True) #drop unlabeled proteins\n",
    "\n",
    "drop_idx_noname = [i for i,j in enumerate(protein_df['T: Gene names']) if ';' in j] #drop rows with multiple protein names\n",
    "protein_df = protein_df.drop(drop_idx_noname).reset_index(drop = True)\n",
    "\n",
    "nan_counts = protein_df.isna().sum(axis = 1)\n",
    "drop_idx_70 = [i for i,j in enumerate(nan_counts) if j >= 0.30*protein_df.shape[1]-1] #drop rows with >30% nans\n",
    "protein_df = protein_df.drop(drop_idx_70).reset_index(drop = True)\n",
    "\n",
    "protein_df = protein_df.fillna(value = 0) #impute missing data with 0\n",
    "\n",
    "protein_df = protein_df.groupby('T: Gene names',as_index = False).median() #replace duplicate entries with the median \n",
    "\n",
    "protein_names = protein_df['T: Gene names'].tolist() # get axis names\n",
    "patient_id = protein_df.columns.tolist()[1:] \n",
    "\n",
    "scaler = StandardScaler() #scaling\n",
    "protein_df_values = protein_df.drop(columns = ['T: Gene names']).values.T\n",
    "protein_df_values = scaler.fit(protein_df_values).transform(protein_df_values)\n",
    "protein_df = pd.DataFrame(protein_df_values).T\n",
    "\n",
    "protein_df.columns = patient_id #reappend axis names\n",
    "protein_df['Gene_Names'] = protein_names #reappend protein names\n",
    "\n",
    "TIL_cols = [i for i in protein_df.columns.tolist() if 'TIL' in i]\n",
    "PD1_cols = [i for i in protein_df.columns.tolist() if 'PD1' in i]\n",
    "\n",
    "#separate into PD1 and TIL patients\n",
    "protein_df_PD1 = deepcopy(protein_df[PD1_cols])\n",
    "protein_df_PD1['Gene_Names'] = protein_names\n",
    "\n",
    "protein_df_TIL = deepcopy(protein_df[TIL_cols])\n",
    "protein_df_TIL['Gene_Names'] = protein_names"
   ]
  },
  {
   "cell_type": "markdown",
   "metadata": {},
   "source": [
    "## Save to CSV"
   ]
  },
  {
   "cell_type": "code",
   "execution_count": 54,
   "metadata": {},
   "outputs": [],
   "source": [
    "clinical_df.to_csv(module_path + '/data/harel/clinical_df.csv')\n",
    "protein_df.to_csv(module_path + '/data/harel/protein_df.csv')\n",
    "protein_df_PD1.to_csv(module_path + '/data/harel/protein_df_PD1.csv')\n",
    "protein_df_TIL.to_csv(module_path + '/data/harel/protein_df_TIL.csv')\n",
    "response_df.to_csv(module_path + '/data/harel/response_df.csv')"
   ]
  }
 ],
 "metadata": {
  "kernelspec": {
   "display_name": "Python 3",
   "language": "python",
   "name": "python3"
  },
  "language_info": {
   "codemirror_mode": {
    "name": "ipython",
    "version": 3
   },
   "file_extension": ".py",
   "mimetype": "text/x-python",
   "name": "python",
   "nbconvert_exporter": "python",
   "pygments_lexer": "ipython3",
   "version": "3.7.3"
  }
 },
 "nbformat": 4,
 "nbformat_minor": 2
}
