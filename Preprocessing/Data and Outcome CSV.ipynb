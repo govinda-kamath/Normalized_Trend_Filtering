{
 "cells": [
  {
   "cell_type": "markdown",
   "metadata": {},
   "source": [
    "## Import modules"
   ]
  },
  {
   "cell_type": "code",
   "execution_count": 1,
   "metadata": {},
   "outputs": [],
   "source": [
    "import pandas as pd\n",
    "import os\n",
    "import numpy as np\n",
    "module_path = os.path.abspath(os.path.join('..'))"
   ]
  },
  {
   "cell_type": "markdown",
   "metadata": {},
   "source": [
    "## Load and preprocess"
   ]
  },
  {
   "cell_type": "code",
   "execution_count": 2,
   "metadata": {
    "scrolled": true
   },
   "outputs": [],
   "source": [
    "all_data = pd.ExcelFile(module_path + \"/data/harel/tableS1.xlsx\")\n",
    "\n",
    "clinical_response_df = all_data.parse('S1A', header = 1) #load in clinical and response data\n",
    "\n",
    "response_df = clinical_response_df.loc[:,['Sample ID','Response', 'PFS time (months)', 'OS time (months)']] #response data\n",
    "\n",
    "clinical_df = clinical_response_df.drop(columns = ['Response', 'PFS time (months)', 'OS time (months)']) #clinical data\n",
    "\n",
    "protein_df = all_data.parse('S1B', header = 1) #load in protein data\n",
    "protein_df = protein_df.drop(columns = ['T: Protein IDs', 'T: Majority protein IDs', 'T: Protein names', 'T: ENSG'])\n",
    "protein_df = protein_df.dropna(subset=['T: Gene names']) #drop unlabeled proteins\n",
    "protein_df = protein_df.fillna(value = 0) #impute missing data with 0\n",
    "\n"
   ]
  },
  {
   "cell_type": "markdown",
   "metadata": {},
   "source": [
    "## Save to CSV"
   ]
  },
  {
   "cell_type": "code",
   "execution_count": 3,
   "metadata": {},
   "outputs": [],
   "source": [
    "clinical_df.to_csv(module_path + '/data/harel/clinical_df.csv')\n",
    "protein_df.to_csv(module_path + '/data/harel/protein_df.csv')\n",
    "response_df.to_csv(module_path + '/data/harel/response_df.csv')"
   ]
  }
 ],
 "metadata": {
  "kernelspec": {
   "display_name": "Python 3",
   "language": "python",
   "name": "python3"
  },
  "language_info": {
   "codemirror_mode": {
    "name": "ipython",
    "version": 3
   },
   "file_extension": ".py",
   "mimetype": "text/x-python",
   "name": "python",
   "nbconvert_exporter": "python",
   "pygments_lexer": "ipython3",
   "version": "3.7.3"
  }
 },
 "nbformat": 4,
 "nbformat_minor": 2
}
