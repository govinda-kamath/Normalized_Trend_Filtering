{
 "cells": [
  {
   "cell_type": "code",
   "execution_count": 215,
   "metadata": {},
   "outputs": [],
   "source": [
    "import pandas as pd\n",
    "import os\n",
    "from tqdm import tqdm_notebook, tnrange\n",
    "import numpy as np\n",
    "import networkx as nx\n",
    "import seaborn as sns\n",
    "import matplotlib.pyplot as plt\n",
    "from scipy.optimize import minimize\n",
    "import scipy\n",
    "from sklearn import linear_model\n",
    "from sklearn.preprocessing import StandardScaler\n",
    "import cvxpy as cp\n",
    "from scipy.sparse import csr_matrix, vstack, hstack\n",
    "\n",
    "module_path = os.path.abspath(os.path.join('..'))\n",
    "\n",
    "%matplotlib inline"
   ]
  },
  {
   "cell_type": "code",
   "execution_count": 2,
   "metadata": {},
   "outputs": [],
   "source": [
    "proteins_df = pd.read_csv(module_path+'/data/harel/protein_df_PD1.csv', index_col=0)"
   ]
  },
  {
   "cell_type": "code",
   "execution_count": 3,
   "metadata": {
    "scrolled": false
   },
   "outputs": [],
   "source": [
    "protein_list = list(set(list(proteins_df[\"Gene_Names\"])))"
   ]
  },
  {
   "cell_type": "code",
   "execution_count": 5,
   "metadata": {},
   "outputs": [],
   "source": [
    "interactome_protein_set = set(np.loadtxt(module_path+\n",
    "                            '/data/interactome/proteins_in_interactome.txt',\n",
    "                            dtype=str))"
   ]
  },
  {
   "cell_type": "code",
   "execution_count": 6,
   "metadata": {
    "scrolled": false
   },
   "outputs": [
    {
     "data": {
      "application/vnd.jupyter.widget-view+json": {
       "model_id": "e0969767dc1a41888f6ca405d40cc13b",
       "version_major": 2,
       "version_minor": 0
      },
      "text/plain": [
       "HBox(children=(IntProgress(value=0, max=4249), HTML(value='')))"
      ]
     },
     "metadata": {},
     "output_type": "display_data"
    },
    {
     "name": "stdout",
     "output_type": "stream",
     "text": [
      "\n"
     ]
    }
   ],
   "source": [
    "intersection_proteins_to_keep = set()\n",
    "semicolon_matches = ()\n",
    "num_nan = 0\n",
    "for protein in tqdm_notebook(protein_list):\n",
    "    if protein in interactome_protein_set:\n",
    "        intersection_proteins_to_keep.add(protein)\n",
    "    elif len(protein.split(\";\")) > 1:\n",
    "        \n",
    "        if np.sum([x in interactome_protein_set for x in protein.split(\";\")]) > 1:\n",
    "            print(protein.split(\";\"))\n"
   ]
  },
  {
   "cell_type": "code",
   "execution_count": 8,
   "metadata": {},
   "outputs": [],
   "source": [
    "with open(module_path+\"/data/interactome/inbiomap_reduced.txt\", 'w') as g:\n",
    "    with open (module_path+\"/data/interactome/inbiomap.9.12.2016.full.oi2\", 'r') as f:\n",
    "        for line in f:\n",
    "            line1 = line.split()\n",
    "            if (line1[0] in intersection_proteins_to_keep\n",
    "            and line1[1] in intersection_proteins_to_keep):\n",
    "                g.write(line)"
   ]
  },
  {
   "cell_type": "code",
   "execution_count": 9,
   "metadata": {},
   "outputs": [],
   "source": [
    "g = nx.read_edgelist(module_path+\"/data/interactome/inbiomap_reduced.txt\", \n",
    "                     data=(('confidence',float),))"
   ]
  },
  {
   "cell_type": "code",
   "execution_count": 10,
   "metadata": {},
   "outputs": [],
   "source": [
    "nx.write_graphml(g,module_path+\"/data/interactome/reduced_interactome.graphml\")"
   ]
  },
  {
   "cell_type": "code",
   "execution_count": 72,
   "metadata": {
    "scrolled": false
   },
   "outputs": [],
   "source": [
    "intersection_proteins = set(g.nodes())\n",
    "proteins_not_found = set(protein_list) - intersection_proteins\n",
    "num_intersection_proteins = len(intersection_proteins)\n",
    "num_orphan_proteins = len(proteins_not_found)"
   ]
  },
  {
   "cell_type": "code",
   "execution_count": 55,
   "metadata": {},
   "outputs": [],
   "source": [
    "proteins_df[\"In_Interactome\"] = list(proteins_df[\"Gene_Names\"].isin(list(intersection_proteins)))"
   ]
  },
  {
   "cell_type": "code",
   "execution_count": 56,
   "metadata": {},
   "outputs": [],
   "source": [
    "protein_new = proteins_df.sort_values(by=\"In_Interactome\", ascending=False).reset_index(drop=True)"
   ]
  },
  {
   "cell_type": "code",
   "execution_count": 57,
   "metadata": {},
   "outputs": [],
   "source": [
    "protein_number_to_names = list(protein_new[\"Gene_Names\"])\n",
    "protein_names_to_number = {}\n",
    "\n",
    "for ind, protein in enumerate(protein_number_to_names):\n",
    "    protein_names_to_number[protein] = ind"
   ]
  },
  {
   "cell_type": "code",
   "execution_count": 44,
   "metadata": {},
   "outputs": [
    {
     "data": {
      "text/plain": [
       "Text(0.5, 0, 'number of neighbours')"
      ]
     },
     "execution_count": 44,
     "metadata": {},
     "output_type": "execute_result"
    },
    {
     "data": {
      "image/png": "[encoded data removed]",
      "text/plain": [
       "<Figure size 432x288 with 1 Axes>"
      ]
     },
     "metadata": {
      "needs_background": "light"
     },
     "output_type": "display_data"
    }
   ],
   "source": [
    "degree_list = list(dict(g.degree()).values())\n",
    "\n",
    "plt.hist(degree_list, bins = 100)\n",
    "plt.grid()\n",
    "plt.ylabel(\"number of vertices\")\n",
    "plt.xlabel(\"number of neighbours\")"
   ]
  },
  {
   "cell_type": "code",
   "execution_count": 63,
   "metadata": {},
   "outputs": [
    {
     "data": {
      "image/png": "[encoded data removed]",
      "text/plain": [
       "<Figure size 432x288 with 1 Axes>"
      ]
     },
     "metadata": {
      "needs_background": "light"
     },
     "output_type": "display_data"
    }
   ],
   "source": [
    "eigenvals = nx.linalg.spectrum.laplacian_spectrum(g, weight=\"confidence\")\n",
    "plt.plot(eigenvals)\n",
    "plt.grid()"
   ]
  },
  {
   "cell_type": "code",
   "execution_count": 65,
   "metadata": {},
   "outputs": [],
   "source": [
    "nodlist = protein_new[\"Gene_Names\"][:num_intersection_proteins]"
   ]
  },
  {
   "cell_type": "code",
   "execution_count": 67,
   "metadata": {},
   "outputs": [],
   "source": [
    "L = nx.laplacian_matrix(g,nodelist=nodlist, weight=\"confidence\")\n",
    "U = nx.incidence_matrix(g,nodelist=nodlist, oriented=True, weight=\"confidence\")"
   ]
  },
  {
   "cell_type": "code",
   "execution_count": 70,
   "metadata": {},
   "outputs": [
    {
     "data": {
      "text/plain": [
       "((3995, 3995), (3995, 165392))"
      ]
     },
     "execution_count": 70,
     "metadata": {},
     "output_type": "execute_result"
    }
   ],
   "source": [
    "L.shape, U.shape"
   ]
  },
  {
   "cell_type": "code",
   "execution_count": 228,
   "metadata": {},
   "outputs": [],
   "source": [
    "Reg0 = np.eye(num_orphan_proteins+num_intersection_proteins)\n",
    "Reg1 = scipy.linalg.block_diag(L.todense(),np.eye(num_orphan_proteins))\n",
    "temp1 = hstack([U.T, csr_matrix(np.zeros((U.shape[1],num_orphan_proteins)))])\n",
    "Reg2 = vstack ([temp1, np.eye(num_intersection_proteins+num_orphan_proteins)])"
   ]
  },
  {
   "cell_type": "code",
   "execution_count": 128,
   "metadata": {},
   "outputs": [],
   "source": [
    "A = protein_new.to_numpy()[:,:-2].T\n",
    "alpha=0.1"
   ]
  },
  {
   "cell_type": "code",
   "execution_count": 88,
   "metadata": {},
   "outputs": [
    {
     "data": {
      "text/plain": [
       "(74, 4249)"
      ]
     },
     "execution_count": 88,
     "metadata": {},
     "output_type": "execute_result"
    }
   ],
   "source": [
    "A.shape"
   ]
  },
  {
   "cell_type": "code",
   "execution_count": 91,
   "metadata": {},
   "outputs": [],
   "source": [
    "response_df = pd.read_csv(module_path+'/data/harel/response_df.csv', index_col=0)"
   ]
  },
  {
   "cell_type": "code",
   "execution_count": 158,
   "metadata": {},
   "outputs": [
    {
     "data": {
      "application/vnd.jupyter.widget-view+json": {
       "model_id": "b32e0884362d432f8002a3baf662607e",
       "version_major": 2,
       "version_minor": 0
      },
      "text/plain": [
       "HBox(children=(IntProgress(value=0, max=74), HTML(value='')))"
      ]
     },
     "metadata": {},
     "output_type": "display_data"
    },
    {
     "name": "stdout",
     "output_type": "stream",
     "text": [
      "\n"
     ]
    }
   ],
   "source": [
    "patient_order = proteins_df.columns[:-2]\n",
    "y_raw = []\n",
    "\n",
    "for patient in tqdm_notebook(patient_order):\n",
    "    try:\n",
    "        pfs = float(response_df[response_df[\"Sample ID\"]==patient][\"PFS time (months)\"])\n",
    "    except:\n",
    "        new_patient = \" \".join(patient.split(\"_\"))\n",
    "        try:\n",
    "            pfs = float(response_df[response_df[\"Sample ID\"]==new_patient][\"PFS time (months)\"])\n",
    "        except:\n",
    "            print(patient, new_patient)\n",
    "            raise\n",
    "        \n",
    "    y_raw.append(pfs)\n",
    "yraw = np.array(y_raw).reshape(-1,1)\n",
    "scaler = StandardScaler()\n",
    "scaler.fit(yraw)\n",
    "y = scaler.transform(y.reshape(-1, 1)).reshape(-1)"
   ]
  },
  {
   "cell_type": "code",
   "execution_count": 226,
   "metadata": {},
   "outputs": [],
   "source": [
    "def lasso1(x):  # following sklearn's definition from user-guide!\n",
    "    return ((1. / (2*A.shape[0])) * np.square(np.linalg.norm(A.dot(x) - y, 2)) + \n",
    "                alpha * np.linalg.norm(Reg0.dot(x), 1))\n",
    "def lasso2(x):  # following sklearn's definition from user-guide!\n",
    "    return ((1. / (2*A.shape[0])) * np.square(np.linalg.norm(A.dot(x) - y, 2)) + \n",
    "                alpha * np.linalg.norm(Reg1.dot(x), 1))\n",
    "def lasso3(x):  # following sklearn's definition from user-guide!\n",
    "    return ((1. / (2*A.shape[0])) * np.square(np.linalg.norm(A.dot(x) - y, 2)) + \n",
    "                alpha * np.linalg.norm(Reg2.dot(x), 1))"
   ]
  },
  {
   "cell_type": "code",
   "execution_count": 166,
   "metadata": {},
   "outputs": [
    {
     "name": "stdout",
     "output_type": "stream",
     "text": [
      "0.19225107017780615 0.31154256018566084\n"
     ]
    }
   ],
   "source": [
    "clf = linear_model.Lasso(alpha=alpha, fit_intercept=False)\n",
    "clf.fit(A, y)\n",
    "print(lasso1(clf.coef_), max (clf.coef_))"
   ]
  },
  {
   "cell_type": "code",
   "execution_count": 199,
   "metadata": {},
   "outputs": [],
   "source": [
    "x = cp.Variable(num_intersection_proteins+num_orphan_proteins)\n",
    "objective = cp.Minimize((1. / (2*A.shape[0])) * cp.sum_squares(A*x - y)+ alpha* cp.norm1(Reg0*x))\n",
    "prob = cp.Problem(objective)"
   ]
  },
  {
   "cell_type": "code",
   "execution_count": 200,
   "metadata": {},
   "outputs": [
    {
     "name": "stdout",
     "output_type": "stream",
     "text": [
      "0.19225105031379433 0.31192647669153656\n"
     ]
    }
   ],
   "source": [
    "result = prob.solve()\n",
    "print(lasso1(x.value), max (x.value))\n",
    "vanilla_lasso = x.value"
   ]
  },
  {
   "cell_type": "code",
   "execution_count": 201,
   "metadata": {},
   "outputs": [
    {
     "data": {
      "text/plain": [
       "(array([   0,  204,  233,  356,  458,  527,  634, 1308, 1452, 1564, 1714,\n",
       "        1734, 2007, 2134, 2216, 2275, 2863, 2887, 3073, 3276, 3521, 3572]),)"
      ]
     },
     "execution_count": 201,
     "metadata": {},
     "output_type": "execute_result"
    },
    {
     "data": {
      "image/png": "[encoded data removed]",
      "text/plain": [
       "<Figure size 432x288 with 1 Axes>"
      ]
     },
     "metadata": {
      "needs_background": "light"
     },
     "output_type": "display_data"
    }
   ],
   "source": [
    "plt.plot(vanilla_lasso)\n",
    "plt.grid()\n",
    "np.where(np.abs(vanilla_lasso) > 0.01)"
   ]
  },
  {
   "cell_type": "code",
   "execution_count": 173,
   "metadata": {},
   "outputs": [],
   "source": [
    "x = cp.Variable(num_intersection_proteins+num_orphan_proteins)\n",
    "objective = cp.Minimize((1. / (2*A.shape[0])) * cp.sum_squares(A*x - y)+ alpha* cp.norm1(Reg1*x))\n",
    "prob = cp.Problem(objective)"
   ]
  },
  {
   "cell_type": "code",
   "execution_count": 174,
   "metadata": {},
   "outputs": [],
   "source": [
    "result = prob.solve()"
   ]
  },
  {
   "cell_type": "code",
   "execution_count": 178,
   "metadata": {},
   "outputs": [
    {
     "name": "stdout",
     "output_type": "stream",
     "text": [
      "0.25729101455182335 0.2329301424341439\n"
     ]
    }
   ],
   "source": [
    "print(lasso2(x.value), max (x.value))\n",
    "laplacian_lasso = x.value"
   ]
  },
  {
   "cell_type": "code",
   "execution_count": 182,
   "metadata": {},
   "outputs": [
    {
     "data": {
      "image/png": "[encoded data removed]",
      "text/plain": [
       "<Figure size 432x288 with 1 Axes>"
      ]
     },
     "metadata": {
      "needs_background": "light"
     },
     "output_type": "display_data"
    }
   ],
   "source": [
    "plt.plot(laplacian_lasso)\n",
    "plt.grid()"
   ]
  },
  {
   "cell_type": "code",
   "execution_count": 187,
   "metadata": {},
   "outputs": [
    {
     "data": {
      "text/plain": [
       "(array([ 204, 1223, 1232, 4001, 4018, 4034, 4036, 4044, 4050, 4055, 4056,\n",
       "        4079, 4098, 4100, 4119, 4128, 4129, 4147, 4153, 4158, 4166, 4191,\n",
       "        4192, 4206, 4227, 4246]),)"
      ]
     },
     "execution_count": 187,
     "metadata": {},
     "output_type": "execute_result"
    }
   ],
   "source": [
    "np.where(np.abs(laplacian_lasso) > 0.01)"
   ]
  },
  {
   "cell_type": "code",
   "execution_count": 192,
   "metadata": {},
   "outputs": [
    {
     "data": {
      "text/plain": [
       "('POSTN', 'TGFBI', 'TMTC3')"
      ]
     },
     "execution_count": 192,
     "metadata": {},
     "output_type": "execute_result"
    }
   ],
   "source": [
    "protein_number_to_names[204], protein_number_to_names[1223], protein_number_to_names[1232]"
   ]
  },
  {
   "cell_type": "code",
   "execution_count": 193,
   "metadata": {},
   "outputs": [
    {
     "data": {
      "text/plain": [
       "DegreeView({'POSTN': 1, 'TGFBI': 1, 'TMTC3': 1})"
      ]
     },
     "execution_count": 193,
     "metadata": {},
     "output_type": "execute_result"
    }
   ],
   "source": [
    "g.degree([\"POSTN\", 'TGFBI', 'TMTC3'])"
   ]
  },
  {
   "cell_type": "code",
   "execution_count": 198,
   "metadata": {},
   "outputs": [
    {
     "data": {
      "text/plain": [
       "['DVL2']"
      ]
     },
     "execution_count": 198,
     "metadata": {},
     "output_type": "execute_result"
    }
   ],
   "source": [
    "list(g.neighbors(\"TMTC3\"))"
   ]
  },
  {
   "cell_type": "code",
   "execution_count": 224,
   "metadata": {},
   "outputs": [],
   "source": [
    "x = cp.Variable(num_intersection_proteins+num_orphan_proteins)\n",
    "objective = cp.Minimize((1. / (2*A.shape[0])) * cp.sum_squares(A*x - y)+ alpha* cp.norm1(Reg2*x))\n",
    "prob = cp.Problem(objective)"
   ]
  },
  {
   "cell_type": "code",
   "execution_count": 225,
   "metadata": {},
   "outputs": [],
   "source": [
    "result = prob.solve()"
   ]
  },
  {
   "cell_type": "code",
   "execution_count": 227,
   "metadata": {},
   "outputs": [
    {
     "name": "stdout",
     "output_type": "stream",
     "text": [
      "0.25927430557393455 0.2763132466017871\n"
     ]
    }
   ],
   "source": [
    "print(lasso3(x.value), max (x.value))\n",
    "incidence_lasso = x.value"
   ]
  },
  {
   "cell_type": "code",
   "execution_count": 229,
   "metadata": {},
   "outputs": [
    {
     "data": {
      "image/png": "[encoded data removed]",
      "text/plain": [
       "<Figure size 432x288 with 1 Axes>"
      ]
     },
     "metadata": {
      "needs_background": "light"
     },
     "output_type": "display_data"
    }
   ],
   "source": [
    "plt.plot(incidence_lasso)\n",
    "plt.grid()"
   ]
  },
  {
   "cell_type": "code",
   "execution_count": null,
   "metadata": {},
   "outputs": [],
   "source": []
  }
 ],
 "metadata": {
  "kernelspec": {
   "display_name": "Python 3",
   "language": "python",
   "name": "python3"
  },
  "language_info": {
   "codemirror_mode": {
    "name": "ipython",
    "version": 3
   },
   "file_extension": ".py",
   "mimetype": "text/x-python",
   "name": "python",
   "nbconvert_exporter": "python",
   "pygments_lexer": "ipython3",
   "version": "3.7.3"
  }
 },
 "nbformat": 4,
 "nbformat_minor": 2
}
