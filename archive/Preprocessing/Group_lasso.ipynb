{
 "cells": [
  {
   "cell_type": "code",
   "execution_count": 1,
   "metadata": {},
   "outputs": [],
   "source": [
    "import pandas as pd\n",
    "import os\n",
    "from tqdm import tqdm_notebook, tnrange\n",
    "import numpy as np\n",
    "import networkx as nx\n",
    "import seaborn as sns\n",
    "import matplotlib.pyplot as plt\n",
    "\n",
    "import scipy\n",
    "from scipy.optimize import minimize\n",
    "from scipy.sparse import csr_matrix, vstack, hstack\n",
    "\n",
    "from sklearn import linear_model\n",
    "from sklearn.metrics import mean_squared_error, r2_score\n",
    "from sklearn.preprocessing import StandardScaler\n",
    "\n",
    "import cvxpy as cp\n",
    "\n",
    "\n",
    "module_path = os.path.abspath(os.path.join('..'))\n",
    "\n",
    "%matplotlib inline"
   ]
  },
  {
   "cell_type": "code",
   "execution_count": 2,
   "metadata": {},
   "outputs": [],
   "source": [
    "protein_df_PD1_test = pd.read_csv(module_path+'/data/harel/protein_df_PD1_test_feats.csv', index_col=0)"
   ]
  },
  {
   "cell_type": "code",
   "execution_count": 3,
   "metadata": {},
   "outputs": [
    {
     "data": {
      "text/plain": [
       "15"
      ]
     },
     "execution_count": 3,
     "metadata": {},
     "output_type": "execute_result"
    }
   ],
   "source": [
    "len(protein_df_PD1_test.T.columns)"
   ]
  },
  {
   "cell_type": "code",
   "execution_count": 4,
   "metadata": {},
   "outputs": [],
   "source": [
    "proteins_df = pd.read_csv(module_path+'/data/harel/protein_df_PD1.csv', index_col=0)\n",
    "protein_list = list(set(list(proteins_df[\"Gene_Names\"])))\n",
    "interactome_protein_set = set(np.loadtxt(module_path+\n",
    "                            '/data/interactome/proteins_in_interactome.txt',\n",
    "                            dtype=str))"
   ]
  },
  {
   "cell_type": "code",
   "execution_count": 5,
   "metadata": {},
   "outputs": [
    {
     "data": {
      "application/vnd.jupyter.widget-view+json": {
       "model_id": "fcaa80f798784623b78e19a2b9d01bb2",
       "version_major": 2,
       "version_minor": 0
      },
      "text/plain": [
       "HBox(children=(IntProgress(value=0, max=4249), HTML(value='')))"
      ]
     },
     "metadata": {},
     "output_type": "display_data"
    },
    {
     "name": "stdout",
     "output_type": "stream",
     "text": [
      "\n"
     ]
    }
   ],
   "source": [
    "intersection_proteins_to_keep = set()\n",
    "semicolon_matches = ()\n",
    "num_nan = 0\n",
    "for protein in tqdm_notebook(protein_list):\n",
    "    if protein in interactome_protein_set:\n",
    "        intersection_proteins_to_keep.add(protein)\n",
    "    elif len(protein.split(\";\")) > 1:\n",
    "        \n",
    "        if np.sum([x in interactome_protein_set for x in protein.split(\";\")]) > 1:\n",
    "            print(protein.split(\";\"))"
   ]
  },
  {
   "cell_type": "code",
   "execution_count": 6,
   "metadata": {},
   "outputs": [],
   "source": [
    "g = nx.read_edgelist(module_path+\"/data/interactome/inbiomap_reduced.txt\", \n",
    "                     data=(('confidence',float),))"
   ]
  },
  {
   "cell_type": "code",
   "execution_count": 7,
   "metadata": {},
   "outputs": [],
   "source": [
    "intersection_proteins = set(g.nodes())\n",
    "proteins_not_found = set(protein_list) - intersection_proteins\n",
    "num_intersection_proteins = len(intersection_proteins)\n",
    "num_orphan_proteins = len(proteins_not_found)"
   ]
  },
  {
   "cell_type": "code",
   "execution_count": 8,
   "metadata": {},
   "outputs": [],
   "source": [
    "proteins_df[\"In_Interactome\"] = list(proteins_df[\"Gene_Names\"].isin(list(intersection_proteins)))\n",
    "protein_new = proteins_df.sort_values(by=\"In_Interactome\", ascending=False).reset_index(drop=True)"
   ]
  },
  {
   "cell_type": "code",
   "execution_count": 9,
   "metadata": {},
   "outputs": [],
   "source": [
    "protein_number_to_names = list(protein_new[\"Gene_Names\"])\n",
    "protein_names_to_number = {}\n",
    "\n",
    "for ind, protein in enumerate(protein_number_to_names):\n",
    "    protein_names_to_number[protein] = ind"
   ]
  },
  {
   "cell_type": "code",
   "execution_count": 10,
   "metadata": {},
   "outputs": [],
   "source": [
    "train_cols = [x for x in protein_new.columns if x not in protein_df_PD1_test.T.columns]"
   ]
  },
  {
   "cell_type": "code",
   "execution_count": 11,
   "metadata": {},
   "outputs": [],
   "source": [
    "protein_test = protein_new[list(protein_df_PD1_test.T.columns) + [\"Gene_Names\", \"In_Interactome\"]]\n",
    "protein_train = protein_new[train_cols]\n",
    "\n",
    "A = protein_train.to_numpy()[:,:-2].T\n",
    "Atest = protein_test.to_numpy()[:,:-2].T\n",
    "Afull = protein_new.to_numpy()[:,:-2].T"
   ]
  },
  {
   "cell_type": "code",
   "execution_count": 12,
   "metadata": {},
   "outputs": [
    {
     "data": {
      "text/plain": [
       "((59, 4249), (15, 4249), (74, 4249))"
      ]
     },
     "execution_count": 12,
     "metadata": {},
     "output_type": "execute_result"
    }
   ],
   "source": [
    "A.shape, Atest.shape, Afull.shape"
   ]
  },
  {
   "cell_type": "code",
   "execution_count": 13,
   "metadata": {},
   "outputs": [],
   "source": [
    "response_df = pd.read_csv(module_path+'/data/harel/response_df.csv', index_col=0)"
   ]
  },
  {
   "cell_type": "code",
   "execution_count": 14,
   "metadata": {},
   "outputs": [
    {
     "data": {
      "application/vnd.jupyter.widget-view+json": {
       "model_id": "36932a27824a44feb6101a764affb328",
       "version_major": 2,
       "version_minor": 0
      },
      "text/plain": [
       "HBox(children=(IntProgress(value=0, max=59), HTML(value='')))"
      ]
     },
     "metadata": {},
     "output_type": "display_data"
    },
    {
     "name": "stdout",
     "output_type": "stream",
     "text": [
      "\n"
     ]
    }
   ],
   "source": [
    "patient_order_train = protein_train.columns[:-2]\n",
    "y_raw_train = []\n",
    "\n",
    "for patient in tqdm_notebook(patient_order_train):\n",
    "    try:\n",
    "        pfs = float(response_df[response_df[\"Sample ID\"]==patient][\"PFS time (months)\"])\n",
    "    except:\n",
    "        new_patient = \" \".join(patient.split(\"_\"))\n",
    "        try:\n",
    "            pfs = float(response_df[response_df[\"Sample ID\"]==new_patient][\"PFS time (months)\"])\n",
    "        except:\n",
    "            print(patient, new_patient)\n",
    "            raise\n",
    "        \n",
    "    y_raw_train.append(pfs)\n",
    "yraw_train = np.array(y_raw_train).reshape(-1,1)\n",
    "scaler = StandardScaler()\n",
    "scaler.fit(yraw_train)\n",
    "y = scaler.transform(yraw_train.reshape(-1, 1)).reshape(-1)"
   ]
  },
  {
   "cell_type": "code",
   "execution_count": 15,
   "metadata": {},
   "outputs": [
    {
     "data": {
      "application/vnd.jupyter.widget-view+json": {
       "model_id": "cf19a7f709a04e70b206744b9a8baf1a",
       "version_major": 2,
       "version_minor": 0
      },
      "text/plain": [
       "HBox(children=(IntProgress(value=0, max=15), HTML(value='')))"
      ]
     },
     "metadata": {},
     "output_type": "display_data"
    },
    {
     "name": "stdout",
     "output_type": "stream",
     "text": [
      "\n"
     ]
    }
   ],
   "source": [
    "patient_order_test = protein_test.columns[:-2]\n",
    "y_raw_test = []\n",
    "\n",
    "for patient in tqdm_notebook(patient_order_test):\n",
    "    try:\n",
    "        pfs = float(response_df[response_df[\"Sample ID\"]==patient][\"PFS time (months)\"])\n",
    "    except:\n",
    "        new_patient = \" \".join(patient.split(\"_\"))\n",
    "        try:\n",
    "            pfs = float(response_df[response_df[\"Sample ID\"]==new_patient][\"PFS time (months)\"])\n",
    "        except:\n",
    "            print(patient, new_patient)\n",
    "            raise\n",
    "        \n",
    "    y_raw_test.append(pfs)\n",
    "yraw_test = np.array(y_raw_test).reshape(-1,1)\n",
    "scaler = StandardScaler()\n",
    "scaler.fit(yraw_test)\n",
    "y_test = scaler.transform(yraw_test.reshape(-1, 1)).reshape(-1)"
   ]
  },
  {
   "cell_type": "code",
   "execution_count": 16,
   "metadata": {},
   "outputs": [
    {
     "data": {
      "application/vnd.jupyter.widget-view+json": {
       "model_id": "118a363839334fe8932ae1a2aaa0f146",
       "version_major": 2,
       "version_minor": 0
      },
      "text/plain": [
       "HBox(children=(IntProgress(value=0, max=74), HTML(value='')))"
      ]
     },
     "metadata": {},
     "output_type": "display_data"
    },
    {
     "name": "stdout",
     "output_type": "stream",
     "text": [
      "\n"
     ]
    }
   ],
   "source": [
    "patient_order = protein_new.columns[:-2]\n",
    "y_raw_full = []\n",
    "\n",
    "for patient in tqdm_notebook(patient_order):\n",
    "    try:\n",
    "        pfs = float(response_df[response_df[\"Sample ID\"]==patient][\"PFS time (months)\"])\n",
    "    except:\n",
    "        new_patient = \" \".join(patient.split(\"_\"))\n",
    "        try:\n",
    "            pfs = float(response_df[response_df[\"Sample ID\"]==new_patient][\"PFS time (months)\"])\n",
    "        except:\n",
    "            print(patient, new_patient)\n",
    "            raise\n",
    "        \n",
    "    y_raw_full.append(pfs)\n",
    "yraw_full = np.array(y_raw_full).reshape(-1,1)\n",
    "scaler = StandardScaler()\n",
    "scaler.fit(yraw_full)\n",
    "y_full = scaler.transform(yraw_full.reshape(-1, 1)).reshape(-1)"
   ]
  },
  {
   "cell_type": "code",
   "execution_count": 17,
   "metadata": {},
   "outputs": [
    {
     "name": "stdout",
     "output_type": "stream",
     "text": [
      "(3995, 3995) (3995, 165392)\n"
     ]
    }
   ],
   "source": [
    "nodlist = protein_train[\"Gene_Names\"][:num_intersection_proteins]\n",
    "\n",
    "L = nx.normalized_laplacian_matrix(g,nodelist=nodlist, weight=\"confidence\")\n",
    "U = nx.incidence_matrix(g,nodelist=nodlist, oriented=True, weight=\"confidence\")\n",
    "\n",
    "print(L.shape, U.shape)\n",
    "\n",
    "Reg0 = np.eye(num_orphan_proteins+num_intersection_proteins)\n",
    "Reg1 = csr_matrix(scipy.linalg.block_diag(\n",
    "    L.todense(),np.eye(num_orphan_proteins)))\n",
    "temp1 = hstack([U.T, csr_matrix(np.zeros((U.shape[1],num_orphan_proteins)))])\n",
    "Reg2 = vstack ([temp1, csr_matrix(np.eye(num_intersection_proteins+num_orphan_proteins))])\n",
    "Reg3 = csr_matrix(scipy.linalg.block_diag(\n",
    "    L.todense(),np.zeros((num_orphan_proteins,num_orphan_proteins))))\n",
    "\n",
    "Reg5 = csr_matrix(scipy.linalg.block_diag(np.zeros(num_intersection_proteins),\n",
    "                                          np.eye(num_orphan_proteins)))"
   ]
  },
  {
   "cell_type": "code",
   "execution_count": 18,
   "metadata": {},
   "outputs": [],
   "source": [
    "def plot_regularization_path(lambd_values, beta_values):\n",
    "    num_coeffs = len(beta_values[0])\n",
    "    for i in range(num_coeffs):\n",
    "        plt.plot(lambd_values, [wi[i] for wi in beta_values])\n",
    "    plt.xlabel(r\"$\\alpha$\", fontsize=16)\n",
    "    plt.xscale(\"log\")\n",
    "    plt.title(\"Regularization Path\")\n",
    "    plt.grid()\n",
    "    plt.show()"
   ]
  },
  {
   "cell_type": "markdown",
   "metadata": {},
   "source": [
    "# Group lasso "
   ]
  },
  {
   "cell_type": "code",
   "execution_count": null,
   "metadata": {},
   "outputs": [
    {
     "data": {
      "application/vnd.jupyter.widget-view+json": {
       "model_id": "3157064394b343f0aeec13a2af97e734",
       "version_major": 2,
       "version_minor": 0
      },
      "text/plain": [
       "HBox(children=(IntProgress(value=1, bar_style='info', max=1), HTML(value='')))"
      ]
     },
     "metadata": {},
     "output_type": "display_data"
    }
   ],
   "source": [
    "x = cp.Variable(num_intersection_proteins+num_orphan_proteins)\n",
    "alph = cp.Parameter(nonneg=True)\n",
    "\n",
    "m = g.number_of_edges()\n",
    "n = num_intersection_proteins+num_orphan_proteins\n",
    "Areg = np.zeros((2,n))\n",
    "\n",
    "alph.value = 0.1\n",
    "reg = cp.norm2(Reg5*x)\n",
    "for index, ed in tqdm_notebook(enumerate(g.edges())):\n",
    "    end0 = protein_names_to_number[ed[0]]\n",
    "    end1 = protein_names_to_number[ed[1]]\n",
    "    Areg[0, end0] = 1\n",
    "    Areg[1, end1] = 1\n",
    "    reg += cp.norm2(Areg*x)\n",
    "#     y = [x[0], x[10]]\n",
    "#     reg += cp.norm2(x[end0]**2 + x[end1]**2)\n",
    "\n",
    "cost = (1. / (2*A.shape[0])) * cp.sum_squares(A*x - y)+ alph* reg \n",
    "\n",
    "objective = cp.Minimize(cost)\n",
    "prob = cp.Problem(objective)\n",
    "prob.solve()"
   ]
  },
  {
   "cell_type": "code",
   "execution_count": null,
   "metadata": {},
   "outputs": [],
   "source": [
    "print(\"a\")"
   ]
  },
  {
   "cell_type": "code",
   "execution_count": null,
   "metadata": {},
   "outputs": [],
   "source": []
  }
 ],
 "metadata": {
  "kernelspec": {
   "display_name": "Python 3",
   "language": "python",
   "name": "python3"
  },
  "language_info": {
   "codemirror_mode": {
    "name": "ipython",
    "version": 3
   },
   "file_extension": ".py",
   "mimetype": "text/x-python",
   "name": "python",
   "nbconvert_exporter": "python",
   "pygments_lexer": "ipython3",
   "version": "3.7.3"
  }
 },
 "nbformat": 4,
 "nbformat_minor": 2
}
