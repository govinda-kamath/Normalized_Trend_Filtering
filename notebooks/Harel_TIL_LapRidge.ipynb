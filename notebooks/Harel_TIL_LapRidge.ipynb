{
 "cells": [
  {
   "cell_type": "code",
   "execution_count": 11,
   "metadata": {},
   "outputs": [],
   "source": [
    "import pandas as pd\n",
    "import numpy as np\n",
    "import sys \n",
    "import os\n",
    "import itertools\n",
    "import time\n",
    "import random\n",
    "\n",
    "#import utils\n",
    "sys.path.insert(0, '../utils/')\n",
    "from utils_preprocess_v3 import *\n",
    "from utils_modeling_v9 import *\n",
    "from utils_plots_v2 import *\n",
    "\n",
    "#sklearn\n",
    "from sklearn.metrics import mean_squared_error\n",
    "from sklearn.linear_model import LogisticRegression\n",
    "from sklearn.model_selection import train_test_split\n",
    "\n",
    "start_time = time.time()"
   ]
  },
  {
   "cell_type": "code",
   "execution_count": 12,
   "metadata": {},
   "outputs": [],
   "source": [
    "data = pd.read_csv('../data/datasets_processed/Harel_TIL_data.csv', index_col='Unnamed: 0')\n",
    "response = pd.read_csv('../data/datasets_processed/Harel_TIL_response.csv', index_col='Unnamed: 0')\n",
    "interactome = pd.read_csv('../data/interactomes/inbiomap_processed.txt', sep = '\\t')"
   ]
  },
  {
   "cell_type": "code",
   "execution_count": 13,
   "metadata": {},
   "outputs": [],
   "source": [
    "# get nodes from data and graph\n",
    "data_nodes = data['node'].tolist()\n",
    "interactome_nodes = list(set(np.concatenate((interactome['node1'], interactome['node2']))))\n",
    "\n",
    "# organize data\n",
    "organize = Preprocessing()\n",
    "save_location = '../data/reduced_interactomes/reduced_interactome_Harel_TIL.txt'\n",
    "organize.transform(data_nodes, interactome_nodes, interactome, data, save_location, load_graph = True)"
   ]
  },
  {
   "cell_type": "code",
   "execution_count": 14,
   "metadata": {},
   "outputs": [],
   "source": [
    "# extract info from preprocessing\n",
    "X = organize.sorted_X.T.values\n",
    "y = response.values.reshape(-1,1)\n",
    "L_norm = organize.L_norm\n",
    "L = organize.L\n",
    "\n",
    "g = organize.g\n",
    "num_to_node = organize.num_to_node\n",
    "\n",
    "# split for training\n",
    "X_train, X_test, y_train, y_test = train_test_split(X, y, test_size=0.20, random_state=16)\n",
    "\n",
    "# scaling X\n",
    "scaler_X = StandardScaler()\n",
    "X_train = scaler_X.fit_transform(X_train)\n",
    "X_test = scaler_X.transform(X_test)\n",
    "\n",
    "# scalying y\n",
    "scaler_y = StandardScaler()\n",
    "y_train = scaler_y.fit_transform(y_train).reshape(-1)\n",
    "y_test = scaler_y.transform(y_test).reshape(-1)"
   ]
  },
  {
   "cell_type": "code",
   "execution_count": 15,
   "metadata": {},
   "outputs": [],
   "source": [
    "# define training params\n",
    "alpha1_list = np.logspace(-3,-2,15)\n",
    "alpha2_list = np.logspace(-1,2,15)\n",
    "threshold_list = np.logspace(-3,-1,10)\n",
    "max_features = 10\n",
    "alpha_list_pairs = list(itertools.product(alpha1_list, alpha2_list))"
   ]
  },
  {
   "cell_type": "code",
   "execution_count": 16,
   "metadata": {},
   "outputs": [],
   "source": [
    "X_train_lower = np.linalg.cholesky(L_norm.todense())"
   ]
  },
  {
   "cell_type": "markdown",
   "metadata": {},
   "source": [
    "# Lasso + LapRidge"
   ]
  },
  {
   "cell_type": "code",
   "execution_count": 17,
   "metadata": {},
   "outputs": [],
   "source": [
    "def loss_fn(X,Y, L, alpha1, alpha2, beta):\n",
    "    return 0.5/(len(X)) * cp.norm2(cp.matmul(X, beta) - Y)**2 + \\\n",
    "           alpha1 * cp.norm1(beta) + \\\n",
    "           alpha2 * cp.sum(cp.quad_form(beta,L)) \n",
    "\n",
    "alpha1_list = np.logspace(-1,0,15)\n",
    "alpha2_list = np.logspace(-1,2,15)\n",
    "alpha_pairs = list(itertools.product(alpha1_list, alpha2_list))\n",
    "\n",
    "def run(pair):\n",
    "    beta = cp.Variable(X_train.shape[1])\n",
    "    alpha1 = cp.Parameter(nonneg=True)\n",
    "    alpha2 = cp.Parameter(nonneg=True)\n",
    "    alpha1.value = pair[0]\n",
    "    alpha2.value = pair[1]\n",
    "    \n",
    "    problem = cp.Problem(cp.Minimize(loss_fn(X_train, y_train, L_norm, alpha1, alpha2, beta )))\n",
    "    problem.solve(solver = cp.ECOS, verbose = True)\n",
    "\n",
    "    return beta.value"
   ]
  },
  {
   "cell_type": "code",
   "execution_count": 19,
   "metadata": {},
   "outputs": [
    {
     "name": "stderr",
     "output_type": "stream",
     "text": [
      "[Parallel(n_jobs=-1)]: Using backend LokyBackend with 96 concurrent workers.\n",
      "[Parallel(n_jobs=-1)]: Done   8 tasks      | elapsed: 250.4min\n",
      "[Parallel(n_jobs=-1)]: Done  29 tasks      | elapsed: 271.4min\n",
      "[Parallel(n_jobs=-1)]: Done  57 out of 225 | elapsed: 320.9min remaining: 945.8min\n",
      "[Parallel(n_jobs=-1)]: Done  80 out of 225 | elapsed: 344.2min remaining: 623.8min\n",
      "[Parallel(n_jobs=-1)]: Done 103 out of 225 | elapsed: 521.0min remaining: 617.1min\n",
      "[Parallel(n_jobs=-1)]: Done 126 out of 225 | elapsed: 563.2min remaining: 442.5min\n",
      "[Parallel(n_jobs=-1)]: Done 149 out of 225 | elapsed: 573.2min remaining: 292.4min\n",
      "[Parallel(n_jobs=-1)]: Done 172 out of 225 | elapsed: 586.7min remaining: 180.8min\n",
      "[Parallel(n_jobs=-1)]: Done 195 out of 225 | elapsed: 638.4min remaining: 98.2min\n",
      "[Parallel(n_jobs=-1)]: Done 218 out of 225 | elapsed: 645.6min remaining: 20.7min\n",
      "[Parallel(n_jobs=-1)]: Done 225 out of 225 | elapsed: 653.6min finished\n"
     ]
    }
   ],
   "source": [
    "betas = Parallel(n_jobs=-1, verbose=10)(delayed(run)(pair) for pair in alpha_pairs)\n",
    "feats = [getFeatures(None, i, threshold=0.001, max_features=10) for i in betas]\n",
    "feats_wf = [i for i in feats if len(i) != 0]"
   ]
  },
  {
   "cell_type": "code",
   "execution_count": 20,
   "metadata": {},
   "outputs": [],
   "source": [
    "regr = LinearRegression()\n",
    "scores = [getScoring(regr, X_train, y_train, X_test, y_test, i, None) for i in feats]\n",
    "train_scores = [i[0] for i in scores]\n",
    "test_scores = [i[1] for i in scores]"
   ]
  },
  {
   "cell_type": "code",
   "execution_count": 21,
   "metadata": {},
   "outputs": [
    {
     "data": {
      "image/png": "[encoded data removed]",
      "text/plain": [
       "<Figure size 432x288 with 2 Axes>"
      ]
     },
     "metadata": {
      "needs_background": "light"
     },
     "output_type": "display_data"
    }
   ],
   "source": [
    "gridsearch_results = pd.DataFrame(np.array(test_scores), columns = ['Test MSE'])\n",
    "getGridsearchPlot(gridsearch_results, alpha1_list, alpha2_list, save_location = None)"
   ]
  },
  {
   "cell_type": "code",
   "execution_count": 22,
   "metadata": {},
   "outputs": [
    {
     "data": {
      "text/plain": [
       "(array([147]),)"
      ]
     },
     "execution_count": 22,
     "metadata": {},
     "output_type": "execute_result"
    }
   ],
   "source": [
    "np.where(test_scores == min(test_scores))"
   ]
  },
  {
   "cell_type": "code",
   "execution_count": 23,
   "metadata": {},
   "outputs": [
    {
     "data": {
      "text/plain": [
       "array([2872, 2754, 1355,  669])"
      ]
     },
     "execution_count": 23,
     "metadata": {},
     "output_type": "execute_result"
    }
   ],
   "source": [
    "feats[147]"
   ]
  },
  {
   "cell_type": "code",
   "execution_count": 24,
   "metadata": {},
   "outputs": [
    {
     "data": {
      "image/png": "[encoded data removed]",
      "text/plain": [
       "<Figure size 432x288 with 1 Axes>"
      ]
     },
     "metadata": {},
     "output_type": "display_data"
    }
   ],
   "source": [
    "getTranslatedNodes(feats[147], [1,1,1,1,1,1,1,1,1,1,1,1], num_to_node, g, )"
   ]
  },
  {
   "cell_type": "code",
   "execution_count": 25,
   "metadata": {},
   "outputs": [
    {
     "data": {
      "text/plain": [
       "0.2744738292424032"
      ]
     },
     "execution_count": 25,
     "metadata": {},
     "output_type": "execute_result"
    }
   ],
   "source": [
    "min(test_scores)"
   ]
  },
  {
   "cell_type": "markdown",
   "metadata": {},
   "source": [
    "# MCP + LapRidge"
   ]
  },
  {
   "cell_type": "code",
   "execution_count": 63,
   "metadata": {},
   "outputs": [
    {
     "name": "stdout",
     "output_type": "stream",
     "text": [
      "Training is over.\n",
      "[10, 9, 6, 7, 7, 5, 3, 3, 2, 1, 0, 0, 0, 0, 0]\n",
      "Training is over.\n",
      "[9, 9, 6, 7, 7, 5, 3, 3, 2, 1, 0, 0, 0, 0, 0]\n",
      "Training is over.\n",
      "[10, 10, 6, 7, 7, 5, 3, 3, 2, 1, 0, 0, 0, 0, 0]\n",
      "Training is over.\n",
      "[10, 10, 6, 7, 6, 5, 3, 3, 2, 1, 0, 0, 0, 0, 0]\n",
      "Training is over.\n",
      "[10, 10, 6, 7, 6, 5, 3, 3, 2, 1, 0, 0, 0, 0, 0]\n",
      "Training is over.\n",
      "[10, 9, 8, 8, 6, 5, 3, 3, 2, 1, 0, 0, 0, 0, 0]\n",
      "Training is over.\n",
      "[10, 10, 7, 8, 6, 5, 3, 3, 2, 1, 0, 0, 0, 0, 0]\n",
      "Training is over.\n",
      "[10, 10, 10, 7, 5, 5, 4, 3, 2, 1, 0, 0, 0, 0, 0]\n",
      "Training is over.\n",
      "[10, 10, 10, 7, 6, 6, 5, 3, 2, 1, 0, 0, 0, 0, 0]\n",
      "Training is over.\n",
      "[10, 10, 10, 10, 8, 6, 5, 3, 2, 1, 0, 0, 0, 0, 0]\n",
      "Training is over.\n",
      "[10, 10, 10, 10, 10, 8, 6, 5, 2, 1, 0, 0, 0, 0, 0]\n",
      "Training is over.\n",
      "[10, 10, 10, 10, 10, 10, 7, 7, 2, 1, 0, 0, 0, 0, 0]\n",
      "Training is over.\n",
      "[10, 10, 10, 10, 10, 10, 9, 7, 2, 1, 0, 0, 0, 0, 0]\n",
      "Training is over.\n",
      "[10, 10, 10, 10, 10, 10, 10, 7, 2, 1, 0, 0, 0, 0, 0]\n",
      "Training is over.\n",
      "[10, 10, 10, 10, 10, 10, 10, 8, 3, 1, 0, 0, 0, 0, 0]\n"
     ]
    }
   ],
   "source": [
    "results = {}\n",
    "feats_list = []\n",
    "for i in alpha2_list:\n",
    "    X_train_new = np.vstack((X_train, np.sqrt(i)*X_train_lower))\n",
    "    y_train_new = np.concatenate((y_train, np.zeros(len(X_train_lower))))\n",
    "    s = pycasso.Solver(X_train_new, y_train_new, lambdas=alpha1_list, penalty = 'mcp')\n",
    "    s.train()\n",
    "    beta = s.coef()['beta']\n",
    "    \n",
    "    #betas = np.concatenate(beta)\n",
    "    \n",
    "    feats = [getFeatures(None, i, threshold=0.001, max_features=10) for i in beta]\n",
    "    feats_list += feats\n",
    "    print([len(i) for i in feats])\n",
    "    \n",
    "    regr = LinearRegression()\n",
    "    scores = [getScoring(regr, X_train, y_train, X_test, y_test, i, None) for i in feats]\n",
    "    \n",
    "    results[i] = scores"
   ]
  },
  {
   "cell_type": "code",
   "execution_count": 64,
   "metadata": {},
   "outputs": [],
   "source": [
    "train_scores = []\n",
    "test_scores = []\n",
    "for k,v in results.items():\n",
    "    train_scores += [i[0] for i in v]\n",
    "    test_scores += [i[1] for i in v]"
   ]
  },
  {
   "cell_type": "code",
   "execution_count": 65,
   "metadata": {},
   "outputs": [
    {
     "data": {
      "image/png": "[encoded data removed]",
      "text/plain": [
       "<Figure size 432x288 with 2 Axes>"
      ]
     },
     "metadata": {
      "needs_background": "light"
     },
     "output_type": "display_data"
    }
   ],
   "source": [
    "gridsearch_results = pd.DataFrame(np.array(test_scores), columns = ['Test MSE'])\n",
    "getGridsearchPlot(gridsearch_results, alpha_list, alpha_list, save_location = None)"
   ]
  },
  {
   "cell_type": "code",
   "execution_count": 66,
   "metadata": {},
   "outputs": [
    {
     "data": {
      "text/plain": [
       "0.39476307859438076"
      ]
     },
     "execution_count": 66,
     "metadata": {},
     "output_type": "execute_result"
    }
   ],
   "source": [
    "min(test_scores)"
   ]
  },
  {
   "cell_type": "code",
   "execution_count": 67,
   "metadata": {},
   "outputs": [
    {
     "data": {
      "text/plain": [
       "(array([  9,  24,  39,  54,  69,  84,  99, 114, 129, 144, 159, 174, 189,\n",
       "        204, 219]),)"
      ]
     },
     "execution_count": 67,
     "metadata": {},
     "output_type": "execute_result"
    }
   ],
   "source": [
    "np.where(test_scores == min(test_scores))"
   ]
  },
  {
   "cell_type": "code",
   "execution_count": 52,
   "metadata": {},
   "outputs": [
    {
     "data": {
      "image/png": "[encoded data removed]",
      "text/plain": [
       "<Figure size 432x288 with 1 Axes>"
      ]
     },
     "metadata": {},
     "output_type": "display_data"
    }
   ],
   "source": [
    "getTranslatedNodes(feats_list[39], [1,1,1,1,1], num_to_node, g)"
   ]
  },
  {
   "cell_type": "markdown",
   "metadata": {},
   "source": [
    "# SCAD + LapRidge"
   ]
  },
  {
   "cell_type": "code",
   "execution_count": 68,
   "metadata": {},
   "outputs": [
    {
     "name": "stdout",
     "output_type": "stream",
     "text": [
      "Training is over.\n",
      "[10, 10, 10, 10, 10, 9, 6, 5, 2, 1, 0, 0, 0, 0, 0]\n",
      "Training is over.\n",
      "[10, 10, 10, 10, 10, 9, 6, 5, 2, 1, 0, 0, 0, 0, 0]\n",
      "Training is over.\n",
      "[10, 10, 10, 10, 10, 9, 6, 6, 2, 1, 0, 0, 0, 0, 0]\n",
      "Training is over.\n",
      "[10, 10, 10, 10, 10, 9, 6, 6, 2, 1, 0, 0, 0, 0, 0]\n",
      "Training is over.\n",
      "[10, 10, 10, 10, 10, 9, 7, 6, 2, 1, 0, 0, 0, 0, 0]\n",
      "Training is over.\n",
      "[10, 10, 10, 10, 10, 9, 7, 6, 2, 1, 0, 0, 0, 0, 0]\n",
      "Training is over.\n",
      "[10, 10, 10, 10, 10, 9, 7, 7, 2, 1, 0, 0, 0, 0, 0]\n",
      "Training is over.\n",
      "[10, 10, 10, 10, 10, 10, 7, 7, 2, 1, 0, 0, 0, 0, 0]\n",
      "Training is over.\n",
      "[10, 10, 10, 10, 10, 10, 7, 7, 2, 1, 0, 0, 0, 0, 0]\n",
      "Training is over.\n",
      "[10, 10, 10, 10, 10, 10, 7, 7, 2, 1, 0, 0, 0, 0, 0]\n",
      "Training is over.\n",
      "[10, 10, 10, 10, 10, 10, 9, 7, 2, 1, 0, 0, 0, 0, 0]\n",
      "Training is over.\n",
      "[10, 10, 10, 10, 10, 10, 10, 7, 2, 1, 0, 0, 0, 0, 0]\n",
      "Training is over.\n",
      "[10, 10, 10, 10, 10, 10, 10, 7, 3, 1, 0, 0, 0, 0, 0]\n",
      "Training is over.\n",
      "[10, 10, 10, 10, 10, 10, 10, 8, 3, 1, 0, 0, 0, 0, 0]\n",
      "Training is over.\n",
      "[10, 10, 10, 10, 10, 10, 10, 9, 3, 1, 0, 0, 0, 0, 0]\n"
     ]
    }
   ],
   "source": [
    "results = {}\n",
    "feats_list = []\n",
    "for i in alpha2_list:\n",
    "    X_train_new = np.vstack((X_train, np.sqrt(i)*X_train_lower))\n",
    "    y_train_new = np.concatenate((y_train, np.zeros(len(X_train_lower))))\n",
    "    s = pycasso.Solver(X_train_new, y_train_new, lambdas=alpha1_list, penalty = 'scad')\n",
    "    s.train()\n",
    "    beta = s.coef()['beta']\n",
    "    \n",
    "    #betas = np.concatenate(beta)\n",
    "    \n",
    "    feats = [getFeatures(None, i, threshold=0.001, max_features=10) for i in beta]\n",
    "    feats_list += feats\n",
    "    print([len(i) for i in feats])\n",
    "    \n",
    "    regr = LinearRegression()\n",
    "    scores = [getScoring(regr, X_train, y_train, X_test, y_test, i, None) for i in feats]\n",
    "    \n",
    "    results[i] = scores"
   ]
  },
  {
   "cell_type": "code",
   "execution_count": 69,
   "metadata": {},
   "outputs": [],
   "source": [
    "train_scores = []\n",
    "test_scores = []\n",
    "for k,v in results.items():\n",
    "    train_scores += [i[0] for i in v]\n",
    "    test_scores += [i[1] for i in v]"
   ]
  },
  {
   "cell_type": "code",
   "execution_count": 70,
   "metadata": {},
   "outputs": [
    {
     "data": {
      "image/png": "[encoded data removed]",
      "text/plain": [
       "<Figure size 432x288 with 2 Axes>"
      ]
     },
     "metadata": {
      "needs_background": "light"
     },
     "output_type": "display_data"
    }
   ],
   "source": [
    "gridsearch_results = pd.DataFrame(np.array(test_scores), columns = ['Test MSE'])\n",
    "getGridsearchPlot(gridsearch_results, alpha_list, alpha_list, save_location = None)"
   ]
  },
  {
   "cell_type": "code",
   "execution_count": 72,
   "metadata": {},
   "outputs": [
    {
     "data": {
      "text/plain": [
       "0.39476307859438076"
      ]
     },
     "execution_count": 72,
     "metadata": {},
     "output_type": "execute_result"
    }
   ],
   "source": [
    "min(test_scores)"
   ]
  },
  {
   "cell_type": "code",
   "execution_count": 73,
   "metadata": {},
   "outputs": [
    {
     "data": {
      "text/plain": [
       "(array([  9,  24,  39,  54,  69,  84,  99, 114, 129, 144, 159, 174, 189,\n",
       "        204, 219]),)"
      ]
     },
     "execution_count": 73,
     "metadata": {},
     "output_type": "execute_result"
    }
   ],
   "source": [
    "np.where(test_scores == min(test_scores))"
   ]
  },
  {
   "cell_type": "code",
   "execution_count": 74,
   "metadata": {},
   "outputs": [
    {
     "data": {
      "image/png": "[encoded data removed]",
      "text/plain": [
       "<Figure size 432x288 with 1 Axes>"
      ]
     },
     "metadata": {},
     "output_type": "display_data"
    }
   ],
   "source": [
    "getTranslatedNodes(feats_list[39], [1,1,1,1,1], num_to_node, g)"
   ]
  },
  {
   "cell_type": "code",
   "execution_count": null,
   "metadata": {},
   "outputs": [],
   "source": []
  }
 ],
 "metadata": {
  "kernelspec": {
   "display_name": "Python 3",
   "language": "python",
   "name": "python3"
  },
  "language_info": {
   "codemirror_mode": {
    "name": "ipython",
    "version": 3
   },
   "file_extension": ".py",
   "mimetype": "text/x-python",
   "name": "python",
   "nbconvert_exporter": "python",
   "pygments_lexer": "ipython3",
   "version": "3.7.4"
  }
 },
 "nbformat": 4,
 "nbformat_minor": 4
}
