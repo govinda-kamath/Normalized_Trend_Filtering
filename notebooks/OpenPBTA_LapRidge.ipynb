{
 "cells": [
  {
   "cell_type": "code",
   "execution_count": 8,
   "metadata": {},
   "outputs": [],
   "source": [
    "import pandas as pd\n",
    "import numpy as np\n",
    "import sys \n",
    "import os\n",
    "import itertools\n",
    "import time\n",
    "import random\n",
    "\n",
    "#import utils\n",
    "sys.path.insert(0, '../utils/')\n",
    "from utils_preprocess_v3 import *\n",
    "from utils_modeling_v9 import *\n",
    "from utils_plots_v2 import *\n",
    "\n",
    "#sklearn\n",
    "from sklearn.metrics import mean_squared_error\n",
    "from sklearn.linear_model import LogisticRegression\n",
    "from sklearn.model_selection import train_test_split\n",
    "\n",
    "start_time = time.time()"
   ]
  },
  {
   "cell_type": "code",
   "execution_count": 9,
   "metadata": {},
   "outputs": [],
   "source": [
    "data = pd.read_csv('../data/datasets_processed/OpenPBTA_data_mean.csv', index_col='Unnamed: 0', dtype = 'unicode')\n",
    "data = data.T.reset_index().rename(columns = {'index' : 'node'})\n",
    "response = pd.read_csv('../data/datasets_processed/OpenPBTA_response.csv', index_col='Kids_First_Biospecimen_ID')\n",
    "interactome = pd.read_csv('../data/interactomes/inbiomap_processed.txt', sep = '\\t')"
   ]
  },
  {
   "cell_type": "code",
   "execution_count": 10,
   "metadata": {},
   "outputs": [],
   "source": [
    "# get nodes from data and graph\n",
    "data_nodes = data['node'].tolist()\n",
    "interactome_nodes = list(set(np.concatenate((interactome['node1'], interactome['node2']))))\n",
    "\n",
    "# organize data\n",
    "organize = Preprocessing()\n",
    "save_location = '../data/reduced_interactomes/reduced_interactome_OpenPBTA.txt'\n",
    "organize.transform(data_nodes, interactome_nodes, interactome, data, save_location, load_graph = True)"
   ]
  },
  {
   "cell_type": "code",
   "execution_count": 11,
   "metadata": {},
   "outputs": [],
   "source": [
    "# extract info from preprocessing\n",
    "X = organize.sorted_X.T.values\n",
    "y = response.values.reshape(-1,1)\n",
    "L_norm = organize.L_norm\n",
    "L = organize.L\n",
    "\n",
    "g = organize.g\n",
    "num_to_node = organize.num_to_node\n",
    "\n",
    "# split for training\n",
    "X_train, X_test, y_train, y_test = train_test_split(X, y, test_size=0.20, random_state=42)\n",
    "\n",
    "# scaling X\n",
    "scaler_X = StandardScaler()\n",
    "X_train = scaler_X.fit_transform(X_train)\n",
    "X_test = scaler_X.transform(X_test)\n",
    "\n",
    "# scalying y\n",
    "scaler_y = StandardScaler()\n",
    "y_train = scaler_y.fit_transform(y_train).reshape(-1)\n",
    "y_test = scaler_y.transform(y_test).reshape(-1)"
   ]
  },
  {
   "cell_type": "code",
   "execution_count": 13,
   "metadata": {},
   "outputs": [],
   "source": [
    "val_1, vec_1 = scipy.linalg.eigh(L_norm.toarray())\n",
    "val_zeroed = val_1 - min(val_1) + 1e-8\n",
    "L_rebuild = vec_1.dot(np.diag(val_zeroed)).dot(np.linalg.inv(vec_1))\n",
    "X_train_lower = np.linalg.cholesky(L_rebuild)"
   ]
  },
  {
   "cell_type": "code",
   "execution_count": 16,
   "metadata": {},
   "outputs": [
    {
     "data": {
      "text/plain": [
       "23220.880591483776"
      ]
     },
     "execution_count": 16,
     "metadata": {},
     "output_type": "execute_result"
    }
   ],
   "source": [
    "X_train_lower.dot(X_train_lower.T).sum()"
   ]
  },
  {
   "cell_type": "code",
   "execution_count": 17,
   "metadata": {},
   "outputs": [
    {
     "data": {
      "text/plain": [
       "23220.880262541927"
      ]
     },
     "execution_count": 17,
     "metadata": {},
     "output_type": "execute_result"
    }
   ],
   "source": [
    "L_norm.sum()"
   ]
  },
  {
   "cell_type": "code",
   "execution_count": 17,
   "metadata": {},
   "outputs": [],
   "source": [
    "np.save('L_half.npy', X_train_lower)"
   ]
  },
  {
   "cell_type": "markdown",
   "metadata": {},
   "source": [
    "# Lasso + LapRidge"
   ]
  },
  {
   "cell_type": "code",
   "execution_count": 49,
   "metadata": {},
   "outputs": [],
   "source": [
    "# hyperparameters\n",
    "alpha1_list = np.logspace(-1,0,5)\n",
    "alpha2_list = np.logspace(-1,2,5)\n",
    "threshold_list = np.logspace(-3,-1,10)\n",
    "max_features = 10\n",
    "alpha_pairs = list(itertools.product(alpha1_list, alpha2_list))"
   ]
  },
  {
   "cell_type": "code",
   "execution_count": 51,
   "metadata": {},
   "outputs": [],
   "source": [
    "def loss_fn(X,Y, L, alpha1, alpha2, beta):\n",
    "    return 0.5/(len(X)) * cp.norm2(cp.matmul(X, beta) - Y)**2 + \\\n",
    "           alpha1 * cp.norm1(beta) + \\\n",
    "           alpha2 * cp.sum(cp.quad_form(beta,L)) \n",
    "\n",
    "def run(pair, X_train, y_train, L_norm):\n",
    "    beta = cp.Variable(X_train.shape[1])\n",
    "    alpha1 = cp.Parameter(nonneg=True)\n",
    "    alpha2 = cp.Parameter(nonneg=True)\n",
    "    alpha1.value = pair[0]\n",
    "    alpha2.value = pair[1]\n",
    "    \n",
    "    problem = cp.Problem(cp.Minimize(loss_fn(X_train, y_train, L_norm, alpha1, alpha2, beta )))\n",
    "    problem.solve(solver=cp.SCS, verbose=True)\n",
    "\n",
    "    return beta.value"
   ]
  },
  {
   "cell_type": "code",
   "execution_count": 54,
   "metadata": {},
   "outputs": [
    {
     "name": "stderr",
     "output_type": "stream",
     "text": [
      "[Parallel(n_jobs=8)]: Using backend LokyBackend with 8 concurrent workers.\n",
      "[Parallel(n_jobs=8)]: Done   2 tasks      | elapsed: 280.1min\n",
      "[Parallel(n_jobs=8)]: Done   9 tasks      | elapsed: 534.6min\n",
      "[Parallel(n_jobs=8)]: Done  13 out of  25 | elapsed: 701.2min remaining: 647.3min\n",
      "[Parallel(n_jobs=8)]: Done  16 out of  25 | elapsed: 759.7min remaining: 427.3min\n",
      "[Parallel(n_jobs=8)]: Done  19 out of  25 | elapsed: 999.4min remaining: 315.6min\n",
      "[Parallel(n_jobs=8)]: Done  22 out of  25 | elapsed: 1051.9min remaining: 143.4min\n",
      "[Parallel(n_jobs=8)]: Done  25 out of  25 | elapsed: 1189.3min remaining:    0.0s\n",
      "[Parallel(n_jobs=8)]: Done  25 out of  25 | elapsed: 1189.3min finished\n"
     ]
    }
   ],
   "source": [
    "betas = Parallel(n_jobs=8, verbose=10)(delayed(run)(alpha_pairs[i],\n",
    "                                                       X_train,\n",
    "                                                       y_train,\n",
    "                                                       L_norm) for i in range(len(alpha_pairs)))"
   ]
  },
  {
   "cell_type": "code",
   "execution_count": 55,
   "metadata": {},
   "outputs": [],
   "source": [
    "feats = [getFeatures(None, i, threshold=0.001, max_features=10) for i in betas]\n",
    "regr = LinearRegression()\n",
    "scores = [getScoring(regr, X_train, y_train, X_test, y_test, i, None) for i in feats]\n",
    "train_scores = [i[0] for i in scores]\n",
    "test_scores = [i[1] for i in scores]"
   ]
  },
  {
   "cell_type": "code",
   "execution_count": 56,
   "metadata": {},
   "outputs": [
    {
     "data": {
      "image/png": "[encoded data removed]",
      "text/plain": [
       "<Figure size 432x288 with 2 Axes>"
      ]
     },
     "metadata": {
      "needs_background": "light"
     },
     "output_type": "display_data"
    }
   ],
   "source": [
    "gridsearch_results = pd.DataFrame(np.array(test_scores), columns = ['Test MSE'])\n",
    "getGridsearchPlot(gridsearch_results, alpha1_list, alpha2_list, save_location = None)"
   ]
  },
  {
   "cell_type": "code",
   "execution_count": 57,
   "metadata": {},
   "outputs": [
    {
     "data": {
      "text/plain": [
       "(array([6]),)"
      ]
     },
     "execution_count": 57,
     "metadata": {},
     "output_type": "execute_result"
    }
   ],
   "source": [
    "np.where(test_scores == min(test_scores))"
   ]
  },
  {
   "cell_type": "code",
   "execution_count": 58,
   "metadata": {},
   "outputs": [
    {
     "data": {
      "text/plain": [
       "0.7924067459006434"
      ]
     },
     "execution_count": 58,
     "metadata": {},
     "output_type": "execute_result"
    }
   ],
   "source": [
    "min(test_scores)"
   ]
  },
  {
   "cell_type": "code",
   "execution_count": 59,
   "metadata": {},
   "outputs": [
    {
     "data": {
      "image/png": "[encoded data removed]",
      "text/plain": [
       "<Figure size 432x288 with 1 Axes>"
      ]
     },
     "metadata": {},
     "output_type": "display_data"
    }
   ],
   "source": [
    "getTranslatedNodes(feats[6], betas[6][feats[6]], num_to_node, g, )"
   ]
  },
  {
   "cell_type": "markdown",
   "metadata": {},
   "source": [
    "# MCP + LapRidge"
   ]
  },
  {
   "cell_type": "code",
   "execution_count": 19,
   "metadata": {},
   "outputs": [],
   "source": [
    "# define training params\n",
    "alpha1_list = np.logspace(-3,-2,15)\n",
    "alpha2_list = np.logspace(-1,2,15)\n",
    "threshold_list = np.logspace(-3,-1,10)\n",
    "max_features = 10\n",
    "alpha_list_pairs = list(itertools.product(alpha1_list, alpha2_list))"
   ]
  },
  {
   "cell_type": "code",
   "execution_count": 20,
   "metadata": {},
   "outputs": [
    {
     "name": "stdout",
     "output_type": "stream",
     "text": [
      "Training is over.\n",
      "[10, 10, 10, 10, 10, 10, 10, 3, 3, 1, 1, 0, 0, 0, 0]\n",
      "Training is over.\n",
      "[10, 10, 10, 10, 10, 10, 10, 3, 3, 1, 1, 0, 0, 0, 0]\n",
      "Training is over.\n",
      "[10, 10, 10, 10, 10, 10, 10, 3, 3, 1, 1, 0, 0, 0, 0]\n",
      "Training is over.\n",
      "[10, 10, 10, 10, 10, 10, 10, 3, 3, 1, 1, 0, 0, 0, 0]\n",
      "Training is over.\n",
      "[10, 10, 10, 10, 10, 10, 10, 3, 3, 1, 1, 0, 0, 0, 0]\n",
      "Training is over.\n",
      "[10, 10, 10, 10, 10, 10, 10, 3, 3, 1, 1, 0, 0, 0, 0]\n",
      "Training is over.\n",
      "[10, 10, 10, 10, 10, 10, 9, 3, 3, 1, 1, 0, 0, 0, 0]\n",
      "Training is over.\n",
      "[10, 10, 10, 10, 10, 10, 8, 3, 3, 1, 1, 0, 0, 0, 0]\n",
      "Training is over.\n",
      "[10, 10, 10, 10, 10, 10, 8, 3, 2, 1, 1, 0, 0, 0, 0]\n",
      "Training is over.\n",
      "[10, 10, 10, 10, 10, 10, 8, 3, 2, 1, 1, 0, 0, 0, 0]\n",
      "Training is over.\n",
      "[10, 10, 10, 10, 10, 10, 8, 4, 2, 1, 1, 0, 0, 0, 0]\n",
      "Training is over.\n",
      "[10, 10, 10, 10, 10, 10, 7, 4, 2, 2, 1, 0, 0, 0, 0]\n",
      "Training is over.\n",
      "[10, 10, 10, 10, 10, 10, 7, 5, 2, 2, 1, 0, 0, 0, 0]\n",
      "Training is over.\n",
      "[10, 10, 10, 10, 10, 10, 9, 5, 2, 2, 1, 0, 0, 0, 0]\n",
      "Training is over.\n",
      "[10, 10, 10, 10, 10, 10, 10, 4, 2, 2, 1, 0, 0, 0, 0]\n"
     ]
    }
   ],
   "source": [
    "results = {}\n",
    "feats_list = []\n",
    "betas = []\n",
    "for i in alpha2_list:\n",
    "    X_train_new = np.vstack((X_train, np.sqrt(i)*X_train_lower))\n",
    "    y_train_new = np.concatenate((y_train, np.zeros(len(X_train_lower))))\n",
    "    s = pycasso.Solver(X_train_new, y_train_new, lambdas=alpha1_list, penalty = 'mcp')\n",
    "    s.train()\n",
    "    beta = s.coef()['beta']\n",
    "    \n",
    "    betas += [i for i in beta]\n",
    "    \n",
    "    feats = [getFeatures(None, i, threshold=0.001, max_features=10) for i in beta]\n",
    "    feats_list += feats\n",
    "    print([len(i) for i in feats])\n",
    "    \n",
    "    regr = LinearRegression()\n",
    "    scores = [getScoring(regr, X_train, y_train, X_test, y_test, i, None) for i in feats]\n",
    "    \n",
    "    results[i] = scores"
   ]
  },
  {
   "cell_type": "code",
   "execution_count": 21,
   "metadata": {},
   "outputs": [],
   "source": [
    "train_scores = []\n",
    "test_scores = []\n",
    "for k,v in results.items():\n",
    "    train_scores += [i[0] for i in v]\n",
    "    test_scores += [i[1] for i in v]"
   ]
  },
  {
   "cell_type": "code",
   "execution_count": 22,
   "metadata": {},
   "outputs": [
    {
     "data": {
      "image/png": "[encoded data removed]",
      "text/plain": [
       "<Figure size 432x288 with 2 Axes>"
      ]
     },
     "metadata": {
      "needs_background": "light"
     },
     "output_type": "display_data"
    }
   ],
   "source": [
    "gridsearch_results = pd.DataFrame(np.array(test_scores), columns = ['Test MSE'])\n",
    "getGridsearchPlot(gridsearch_results, alpha1_list, alpha2_list, save_location = None)"
   ]
  },
  {
   "cell_type": "code",
   "execution_count": 23,
   "metadata": {},
   "outputs": [
    {
     "data": {
      "text/plain": [
       "0.7134984518322854"
      ]
     },
     "execution_count": 23,
     "metadata": {},
     "output_type": "execute_result"
    }
   ],
   "source": [
    "min(test_scores)"
   ]
  },
  {
   "cell_type": "code",
   "execution_count": 24,
   "metadata": {},
   "outputs": [
    {
     "data": {
      "text/plain": [
       "(array([75]),)"
      ]
     },
     "execution_count": 24,
     "metadata": {},
     "output_type": "execute_result"
    }
   ],
   "source": [
    "np.where(test_scores == min(test_scores))"
   ]
  },
  {
   "cell_type": "code",
   "execution_count": 26,
   "metadata": {},
   "outputs": [
    {
     "data": {
      "image/png": "[encoded data removed]",
      "text/plain": [
       "<Figure size 432x288 with 1 Axes>"
      ]
     },
     "metadata": {},
     "output_type": "display_data"
    }
   ],
   "source": [
    "getTranslatedNodes(feats_list[75], betas[75][feats_list[75]], num_to_node, g)"
   ]
  },
  {
   "cell_type": "markdown",
   "metadata": {},
   "source": [
    "# SCAD + LapRidge"
   ]
  },
  {
   "cell_type": "code",
   "execution_count": 27,
   "metadata": {},
   "outputs": [],
   "source": [
    "# define training params\n",
    "alpha1_list = np.logspace(-3,-2,15)\n",
    "alpha2_list = np.logspace(-1,2,15)\n",
    "threshold_list = np.logspace(-3,-1,10)\n",
    "max_features = 10\n",
    "alpha_list_pairs = list(itertools.product(alpha1_list, alpha2_list))"
   ]
  },
  {
   "cell_type": "code",
   "execution_count": 28,
   "metadata": {},
   "outputs": [
    {
     "name": "stdout",
     "output_type": "stream",
     "text": [
      "Training is over.\n",
      "[10, 10, 10, 10, 10, 10, 10, 7, 3, 2, 1, 0, 0, 0, 0]\n",
      "Training is over.\n",
      "[10, 10, 10, 10, 10, 10, 10, 7, 3, 2, 1, 0, 0, 0, 0]\n",
      "Training is over.\n",
      "[10, 10, 10, 10, 10, 10, 10, 7, 3, 2, 1, 0, 0, 0, 0]\n",
      "Training is over.\n",
      "[10, 10, 10, 10, 10, 10, 10, 7, 3, 2, 1, 0, 0, 0, 0]\n",
      "Training is over.\n",
      "[10, 10, 10, 10, 10, 10, 10, 7, 3, 2, 1, 0, 0, 0, 0]\n",
      "Training is over.\n",
      "[10, 10, 10, 10, 10, 10, 10, 7, 3, 2, 1, 0, 0, 0, 0]\n",
      "Training is over.\n",
      "[10, 10, 10, 10, 10, 10, 10, 7, 3, 2, 1, 0, 0, 0, 0]\n",
      "Training is over.\n",
      "[10, 10, 10, 10, 10, 10, 10, 7, 3, 2, 1, 0, 0, 0, 0]\n",
      "Training is over.\n",
      "[10, 10, 10, 10, 10, 10, 10, 7, 3, 2, 1, 0, 0, 0, 0]\n",
      "Training is over.\n",
      "[10, 10, 10, 10, 10, 10, 10, 7, 3, 2, 1, 0, 0, 0, 0]\n",
      "Training is over.\n",
      "[10, 10, 10, 10, 10, 10, 10, 7, 3, 2, 1, 0, 0, 0, 0]\n",
      "Training is over.\n",
      "[10, 10, 10, 10, 10, 10, 10, 7, 3, 2, 1, 0, 0, 0, 0]\n",
      "Training is over.\n",
      "[10, 10, 10, 10, 10, 10, 10, 8, 3, 2, 1, 0, 0, 0, 0]\n",
      "Training is over.\n",
      "[10, 10, 10, 10, 10, 10, 10, 8, 3, 2, 1, 0, 0, 0, 0]\n",
      "Training is over.\n",
      "[10, 10, 10, 10, 10, 10, 10, 8, 3, 2, 1, 0, 0, 0, 0]\n"
     ]
    }
   ],
   "source": [
    "results = {}\n",
    "feats_list = []\n",
    "betas = []\n",
    "for i in alpha2_list:\n",
    "    X_train_new = np.vstack((X_train, np.sqrt(i)*X_train_lower))\n",
    "    y_train_new = np.concatenate((y_train, np.zeros(len(X_train_lower))))\n",
    "    s = pycasso.Solver(X_train_new, y_train_new, lambdas=alpha1_list, penalty = 'scad')\n",
    "    s.train()\n",
    "    beta = s.coef()['beta']\n",
    "    \n",
    "    betas += [i for i in beta]\n",
    "    \n",
    "    feats = [getFeatures(None, i, threshold=0.001, max_features=10) for i in beta]\n",
    "    feats_list += feats\n",
    "    print([len(i) for i in feats])\n",
    "    \n",
    "    regr = LinearRegression()\n",
    "    scores = [getScoring(regr, X_train, y_train, X_test, y_test, i, None) for i in feats]\n",
    "    \n",
    "    results[i] = scores"
   ]
  },
  {
   "cell_type": "code",
   "execution_count": 29,
   "metadata": {},
   "outputs": [],
   "source": [
    "train_scores = []\n",
    "test_scores = []\n",
    "for k,v in results.items():\n",
    "    train_scores += [i[0] for i in v]\n",
    "    test_scores += [i[1] for i in v]"
   ]
  },
  {
   "cell_type": "code",
   "execution_count": 40,
   "metadata": {},
   "outputs": [
    {
     "data": {
      "image/png": "[encoded data removed]",
      "text/plain": [
       "<Figure size 432x288 with 2 Axes>"
      ]
     },
     "metadata": {
      "needs_background": "light"
     },
     "output_type": "display_data"
    }
   ],
   "source": [
    "gridsearch_results = pd.DataFrame(np.array(test_scores), columns = ['Test MSE'])\n",
    "getGridsearchPlot(gridsearch_results, alpha1_list, alpha2_list, save_location = None)"
   ]
  },
  {
   "cell_type": "code",
   "execution_count": 41,
   "metadata": {},
   "outputs": [
    {
     "data": {
      "text/plain": [
       "0.7917433983759836"
      ]
     },
     "execution_count": 41,
     "metadata": {},
     "output_type": "execute_result"
    }
   ],
   "source": [
    "min(test_scores)"
   ]
  },
  {
   "cell_type": "code",
   "execution_count": 42,
   "metadata": {},
   "outputs": [
    {
     "data": {
      "text/plain": [
       "(array([201]),)"
      ]
     },
     "execution_count": 42,
     "metadata": {},
     "output_type": "execute_result"
    }
   ],
   "source": [
    "np.where(test_scores == min(test_scores))"
   ]
  },
  {
   "cell_type": "code",
   "execution_count": 30,
   "metadata": {},
   "outputs": [
    {
     "data": {
      "image/png": "[encoded data removed]",
      "text/plain": [
       "<Figure size 432x288 with 1 Axes>"
      ]
     },
     "metadata": {},
     "output_type": "display_data"
    }
   ],
   "source": [
    "getTranslatedNodes(feats_list[201], betas[201][feats_list[201]], num_to_node, g)"
   ]
  }
 ],
 "metadata": {
  "kernelspec": {
   "display_name": "Python 3",
   "language": "python",
   "name": "python3"
  },
  "language_info": {
   "codemirror_mode": {
    "name": "ipython",
    "version": 3
   },
   "file_extension": ".py",
   "mimetype": "text/x-python",
   "name": "python",
   "nbconvert_exporter": "python",
   "pygments_lexer": "ipython3",
   "version": "3.7.4"
  }
 },
 "nbformat": 4,
 "nbformat_minor": 4
}
